{
 "cells": [
  {
   "cell_type": "markdown",
   "metadata": {},
   "source": [
    "<h1> Data types in Python </h1>\n",
    "<p> You can define different data structures in python, but you don't need to define their type. Python does it for you. but it doesn't mean that you cannot define it. In the next cells, we will see different types of data structures and the way that they can be defined and used. Here is a list of common python data types</p>\n",
    "\n",
    "<ul>\n",
    "  <b><li>Strings</li></b>\n",
    "  <b><li>Numebrs</li></b>\n",
    "  <b><li>Null</li></b>\n",
    "  <b><li>Boolian</li></b> \n",
    "  <b><li>Lists</li></b>\n",
    "  <b><li>Tuples</li></b>\n",
    "  <b><li>Sets</li></b>\n",
    "  <b><li>Dictionaries</li></b>  \n",
    "</ul>"
   ]
  },
  {
   "cell_type": "markdown",
   "metadata": {},
   "source": [
    "<h2> Strings </h2>"
   ]
  },
  {
   "cell_type": "code",
   "execution_count": 3,
   "metadata": {},
   "outputs": [
    {
     "name": "stdout",
     "output_type": "stream",
     "text": [
      "This is a multiline string and\n",
      "you are able to move to the next line easily. this is very\n",
      "helpful for documenting your codes and functions\n",
      "Third letter:  i\n",
      "A slice:  is is a \n"
     ]
    }
   ],
   "source": [
    "# We can make comments by Hashtag\n",
    "\n",
    "# String data type\n",
    "myString= \"This is a string!\"\n",
    "String='This is also a string!'\n",
    "multiLine='''This is a multiline string and\n",
    "you are able to move to the next line easily. this is very\n",
    "helpful for documenting your codes and functions'''\n",
    "\n",
    "# We can show any variable by print function\n",
    "print(multiLine)\n",
    "\n",
    "# We can accesss to element os string\n",
    "print('Third letter: ',multiLine[2]) #This will retrieve third letter of the string\n",
    "\n",
    "# We can also slice it\n",
    "print('A slice: ', multiLine[2: 10])"
   ]
  },
  {
   "cell_type": "markdown",
   "metadata": {},
   "source": [
    "<p> <b><i>Remark 1:</i></b> Python has auto-completion feature. You can just press tab for your options. </p>\n",
    "<p> <b><i>Remark 2:</i></b> Print function can take several argument in the same time. </p>"
   ]
  },
  {
   "cell_type": "markdown",
   "metadata": {},
   "source": [
    "<h2> Numbers </h2>"
   ]
  },
  {
   "cell_type": "code",
   "execution_count": 12,
   "metadata": {},
   "outputs": [
    {
     "name": "stdout",
     "output_type": "stream",
     "text": [
      "This is an example of cast operation: int( \" 2 \" ) = 2\n",
      "This is an example of cast operation: int( \" 3.1415 \" ) = 3.1415\n"
     ]
    }
   ],
   "source": [
    "# defining numbers\n",
    "a=2\n",
    "a=int(2)\n",
    "a=int(\"2\")\n",
    "print (\"This is an example of cast operation: int(\",\"\\\"\",2,\"\\\"\",\") =\",a)\n",
    "b=1.3\n",
    "b=float(1.3)\n",
    "pi=3.1415\n",
    "pi=float(\"3.1415\")\n",
    "print (\"This is an example of cast operation: int(\",\"\\\"\",pi,\"\\\"\",\") =\",pi)\n",
    "# You can also define the decimal places but you need to load libraries for more precisions\n"
   ]
  },
  {
   "cell_type": "markdown",
   "metadata": {},
   "source": [
    "<h2> Null </h2>"
   ]
  },
  {
   "cell_type": "code",
   "execution_count": 13,
   "metadata": {},
   "outputs": [],
   "source": [
    "null= None #This variable just refer to an empty location in the memory. "
   ]
  },
  {
   "cell_type": "markdown",
   "metadata": {},
   "source": [
    "<h2> Boolian </h2>"
   ]
  },
  {
   "cell_type": "code",
   "execution_count": 14,
   "metadata": {},
   "outputs": [],
   "source": [
    "a= True\n",
    "b= False"
   ]
  },
  {
   "cell_type": "markdown",
   "metadata": {},
   "source": [
    "<p> <b><i>Remark:</i></b> Please note that Python is case-sensitive. It is also sensitive to indentation! So, Please be careful! </p>"
   ]
  },
  {
   "cell_type": "markdown",
   "metadata": {},
   "source": [
    "<h2> Lists </h2>"
   ]
  },
  {
   "cell_type": "code",
   "execution_count": 23,
   "metadata": {},
   "outputs": [
    {
     "name": "stdout",
     "output_type": "stream",
     "text": [
      "myList:  [1, '1', 2, (1, 2), 3]\n",
      "First index:  1\n",
      "Last index:  3\n",
      "Second from last:  (1, 2)\n"
     ]
    }
   ],
   "source": [
    "# here is an example of list\n",
    "myList=[1,2,3]\n",
    "# List are collection of things\n",
    "myList=[1,\"1\",2,(1,2),3]\n",
    "print (\"myList: \",myList)\n",
    "# Python index start from zero\n",
    "print (\"First index: \", myList[0])\n",
    "#You can access to the last element by -1\n",
    "print (\"Last index: \",myList[-1])\n",
    "# You can go reverse\n",
    "print (\"Second from last: \", myList[-2])"
   ]
  },
  {
   "cell_type": "markdown",
   "metadata": {},
   "source": [
    "<p> <b><i>Remark:</i></b> Please note that list are identified by memory locations. Here is an example:</p>"
   ]
  },
  {
   "cell_type": "code",
   "execution_count": 6,
   "metadata": {},
   "outputs": [
    {
     "name": "stdout",
     "output_type": "stream",
     "text": [
      "This is modified b:  [2, 2, 3]\n",
      "This is a which is also modified:  [2, 2, 3]\n",
      "This is modified b:  [3, 2, 3]\n",
      "This is a which is not modified:  [2, 2, 3]\n"
     ]
    }
   ],
   "source": [
    "a=[1,2,3]\n",
    "b=a\n",
    "b[0]=2\n",
    "print(\"This is modified b: \",b)\n",
    "print(\"This is a which is also modified: \",a)\n",
    "\n",
    "# if we want to copy a into b\n",
    "b=a[:]\n",
    "b[0]=3\n",
    "print(\"This is modified b: \",b)\n",
    "print(\"This is a which is not modified: \",a)"
   ]
  },
  {
   "cell_type": "markdown",
   "metadata": {},
   "source": [
    "<h3> Lists operations </h3>\n",
    "<p> There are lots of built-in functions that you can use on list. Here are some common ones :</p>"
   ]
  },
  {
   "cell_type": "code",
   "execution_count": 64,
   "metadata": {},
   "outputs": [
    {
     "name": "stdout",
     "output_type": "stream",
     "text": [
      "Here is my list:  [0, 1, 2, 3, 4, 5, 6, 7, 8, 9]\n",
      "This is a slice  [2, 3]\n",
      "Here is new complex list (list of lists):  [[0, 1, 2, 3, 4, 5, 6, 7, 8, 9], [0, 1, 2, 3, 4, 5, 6, 7, 8, 9]]\n",
      "I am reading the third element of first list:  2\n",
      "[2, 30, 1, 4, 15, 20]\n",
      "sorted:  [1, 2, 4, 15, 20, 30]\n",
      "Length:  6\n"
     ]
    }
   ],
   "source": [
    "a=list() # It creates an empty list\n",
    "a=list(range(10)) # List of 1 to 10\n",
    "print(\"Here is my list: \", a)\n",
    "print (\"This is a slice \", a[2:4]) # You can slice a list\n",
    "\n",
    "b=[a , a ]\n",
    "print(\"Here is new complex list (list of lists): \", b)\n",
    "\n",
    "print (\"I am reading the third element of first list: \", b[0][2])\n",
    "\n",
    "# appending, changing, adding, deleting\n",
    "a= [2,1,4,0.1,0]\n",
    "a[-1]=15\n",
    "a.append(20)\n",
    "a.insert(1,30)\n",
    "del a[4]\n",
    "print(a)\n",
    "# sorting\n",
    "a.sort()\n",
    "\n",
    "\n",
    "print(\"sorted: \", a)\n",
    "# Length\n",
    "print(\"Length: \", len(a))"
   ]
  },
  {
   "cell_type": "markdown",
   "metadata": {},
   "source": [
    "<h2> Tuples </h2>\n",
    "<p> Tuples are immutables, it means that we can create them and access their elements but we cannot modify them </p>"
   ]
  },
  {
   "cell_type": "code",
   "execution_count": 49,
   "metadata": {},
   "outputs": [
    {
     "name": "stdout",
     "output_type": "stream",
     "text": [
      "1\n"
     ]
    }
   ],
   "source": [
    "a=()\n",
    "a=(1,2,3,4,5)\n",
    "print(a[0])"
   ]
  },
  {
   "cell_type": "markdown",
   "metadata": {},
   "source": [
    "<h2> Sets </h2>"
   ]
  },
  {
   "cell_type": "markdown",
   "metadata": {},
   "source": [
    "<p>A set is a collection which is unordered and unindexed. In Python sets are written with curly brackets. There are limited functionalities for it but sometimes it is useful!</p>"
   ]
  },
  {
   "cell_type": "code",
   "execution_count": 54,
   "metadata": {},
   "outputs": [
    {
     "name": "stdout",
     "output_type": "stream",
     "text": [
      "{'cherry', 'apple', 'banana'}\n"
     ]
    }
   ],
   "source": [
    "thisset = {\"apple\", \"banana\", \"cherry\"}\n",
    "print(thisset)"
   ]
  },
  {
   "cell_type": "markdown",
   "metadata": {},
   "source": [
    "<h2> Dictionaries </h2>\n",
    "</p> Dictionaries are like list but we index element by a key other than a number. They are really useful when it comes to huge datasets!</p>"
   ]
  },
  {
   "cell_type": "code",
   "execution_count": 67,
   "metadata": {},
   "outputs": [
    {
     "name": "stdout",
     "output_type": "stream",
     "text": [
      "{'brand': 'Ford', 'model': 'Mustang', 'year': 1964}\n",
      "Mustang\n",
      "{'brand': 'Ford', 'model': 'Mustang', 'year': 2018}\n",
      "dict_values(['Ford', 'Mustang', 2018])\n",
      "dict_keys(['brand', 'model', 'year'])\n"
     ]
    }
   ],
   "source": [
    "thisdict = {\n",
    "  \"brand\": \"Ford\",\n",
    "  \"model\": \"Mustang\",\n",
    "  \"year\": 1964\n",
    "}\n",
    "print(thisdict)\n",
    "x = thisdict[\"model\"]\n",
    "print(x)\n",
    "thisdict[\"year\"] = 2018\n",
    "print(thisdict)\n",
    "print (thisdict.values())\n",
    "print (thisdict.keys())"
   ]
  },
  {
   "cell_type": "markdown",
   "metadata": {},
   "source": [
    "<h1> Arithmetic and Logical Operations </h1>"
   ]
  },
  {
   "cell_type": "code",
   "execution_count": 76,
   "metadata": {},
   "outputs": [
    {
     "name": "stdout",
     "output_type": "stream",
     "text": [
      "21\n",
      "0.5\n",
      "0.5\n",
      "441\n",
      "1\n",
      "True\n",
      "False\n",
      "False\n",
      "True\n",
      "True\n"
     ]
    }
   ],
   "source": [
    "# Let's try the followings\n",
    "a=10\n",
    "a+=1\n",
    "a*=2\n",
    "a-=1\n",
    "print(a)\n",
    "\n",
    "b= a+1\n",
    "c=a-1\n",
    "d=b+c\n",
    "d=a*2\n",
    "c=1/2.\n",
    "print(c)\n",
    "d=1/2\n",
    "print(d)\n",
    "d=a**2\n",
    "print(d)\n",
    "print(d%4) #remainder #modulo operation\n",
    "\n",
    "a and b\n",
    "a or b\n",
    "not a\n",
    "\n",
    "print (1 is 1)\n",
    "\n",
    "print (1==2)\n",
    "\n",
    "print(a > b)\n",
    "print(a<b)\n",
    "print(a!=b)"
   ]
  },
  {
   "cell_type": "markdown",
   "metadata": {},
   "source": [
    "<h1> Conditional statements </h1>"
   ]
  },
  {
   "cell_type": "code",
   "execution_count": 78,
   "metadata": {},
   "outputs": [
    {
     "name": "stdout",
     "output_type": "stream",
     "text": [
      " a is smaller than b\n"
     ]
    }
   ],
   "source": [
    "a = 100\n",
    "b = 150\n",
    "\n",
    "if a == b :\n",
    "    print(\"The two number is equal\")\n",
    "elif (a> b):\n",
    "    print (\" a is bigger than b\")\n",
    "else:\n",
    "    print (\" a is smaller than b\")\n",
    "    "
   ]
  },
  {
   "cell_type": "markdown",
   "metadata": {},
   "source": [
    "<h1> Looping and iterations </h1>"
   ]
  },
  {
   "cell_type": "code",
   "execution_count": 12,
   "metadata": {},
   "outputs": [
    {
     "name": "stdout",
     "output_type": "stream",
     "text": [
      "0\n",
      "1\n",
      "2\n",
      "3\n",
      "4\n",
      "*********\n",
      "1\n",
      "5\n",
      "6\n",
      "*********\n",
      "0\n",
      "1\n",
      "2\n",
      "3\n",
      "4\n",
      "5\n",
      "6\n",
      "7\n",
      "8\n",
      "9\n",
      "[2, 4, 1, 3]\n"
     ]
    }
   ],
   "source": [
    "for x in range(5):\n",
    "    print(x)\n",
    "x=[1,5,6]\n",
    "print(\"*********\")\n",
    "for element in x:\n",
    "    print(element)\n",
    "    \n",
    "x=0\n",
    "print(\"*********\")\n",
    "while x<10:\n",
    "    print(x)\n",
    "    x+=1\n",
    "# an example of inline loop\n",
    "index=[1,3,0,2]\n",
    "mylist=[1,2,3,4]\n",
    "print([mylist[x] for x in index])"
   ]
  },
  {
   "cell_type": "markdown",
   "metadata": {},
   "source": [
    "<p> <b><i>Remark:</i></b> There is a big difference on how you code when it comes to big data. if you can be more implicit in term of coding, it would be much faster! Here is an example:</p> "
   ]
  },
  {
   "cell_type": "code",
   "execution_count": 50,
   "metadata": {},
   "outputs": [],
   "source": [
    "import numpy as np"
   ]
  },
  {
   "cell_type": "code",
   "execution_count": 51,
   "metadata": {},
   "outputs": [
    {
     "name": "stdout",
     "output_type": "stream",
     "text": [
      "Wall time: 5.64 s\n"
     ]
    }
   ],
   "source": [
    "%%time\n",
    "index=np.random.randint(0,10000000,10000000)\n",
    "mylist=np.arange(10000000)\n",
    "tmp=[mylist[x] for x in index]"
   ]
  },
  {
   "cell_type": "code",
   "execution_count": 52,
   "metadata": {},
   "outputs": [
    {
     "name": "stdout",
     "output_type": "stream",
     "text": [
      "Wall time: 7.01 s\n"
     ]
    }
   ],
   "source": [
    "%%time\n",
    "index=np.random.randint(0,10000000,10000000)\n",
    "mylist=np.arange(10000000)\n",
    "tmp=list()\n",
    "for x in index:\n",
    "    tmp.append(mylist[x])"
   ]
  },
  {
   "cell_type": "markdown",
   "metadata": {},
   "source": [
    "<h1> Function definition </h1>"
   ]
  },
  {
   "cell_type": "code",
   "execution_count": 56,
   "metadata": {},
   "outputs": [
    {
     "name": "stdout",
     "output_type": "stream",
     "text": [
      "6\n",
      "X is an integer, Y is a double\n",
      "28\n",
      "6\n"
     ]
    }
   ],
   "source": [
    "def myFun (x, y=14):\n",
    "    '''X is an integer, Y is a double'''\n",
    "    # Please note y=14 is the default value\n",
    "    return x*y\n",
    "\n",
    "a=myFun(2,3)\n",
    "print(a)\n",
    "print (myFun.__doc__) # We can print document of any function\n",
    "print(myFun(2))\n",
    "print(myFun(y=2,x=3)) # We dont need to enter arguments in a specific order"
   ]
  },
  {
   "cell_type": "markdown",
   "metadata": {},
   "source": [
    "<h1> Loading and using libraries</h1>"
   ]
  },
  {
   "cell_type": "code",
   "execution_count": 58,
   "metadata": {},
   "outputs": [
    {
     "name": "stdout",
     "output_type": "stream",
     "text": [
      " This module loads the entire VTK library into its namespace.  It\n",
      "also allows one to use specific packages inside the vtk directory..\n",
      "vtkStructuredGridReader - read vtk structured grid data file\n",
      "\n",
      "Superclass: vtkDataReader\n",
      "\n",
      "vtkStructuredGridReader is a source object that reads ASCII or binary\n",
      "structured grid data files in vtk format. (see text for format\n",
      "details). The output of this reader is a single vtkStructuredGrid\n",
      "data object. The superclass of this class, vtkDataReader, provides\n",
      "many methods for controlling the reading of the data file, see\n",
      "vtkDataReader for more information.\n",
      "@warning\n",
      "Binary files written on one system may not be readable on other\n",
      "systems.\n",
      "@sa\n",
      "vtkStructuredGrid vtkDataReader\n",
      "\n",
      "\n"
     ]
    }
   ],
   "source": [
    "from numpy import * # this command import all the attributes of numpy\n",
    "import numpy as np # this makes an instant of the library and name it as numpy\n",
    "from numpy import sin # this only import a function named asort\n",
    "\n",
    "# an exercise: load vtk library as myVtk\n",
    "import vtk as myvtk\n",
    "print(myvtk.__doc__)\n",
    "print(myvtk.vtkStructuredGridReader.__doc__)\n",
    "# if a package is not installed, you can do it inline\n",
    "# !pip install vtk"
   ]
  },
  {
   "cell_type": "markdown",
   "metadata": {},
   "source": [
    "<h1> Example on Plotly, numpy, and Matplotlib libraries</h1>"
   ]
  },
  {
   "cell_type": "code",
   "execution_count": 59,
   "metadata": {},
   "outputs": [
    {
     "name": "stdout",
     "output_type": "stream",
     "text": [
      "ordinary multiplication: \n",
      " [[ 1.  4.  9.]\n",
      " [16. 25. 36.]\n",
      " [49. 64. 81.]]\n",
      "ordinary multiplication: \n",
      " [[ 1.  4.  9.]\n",
      " [16. 25. 36.]\n",
      " [49. 64. 81.]]\n",
      "ordinary multiplication: \n",
      " [[ 30.  36.  42.]\n",
      " [ 66.  81.  96.]\n",
      " [102. 126. 150.]]\n",
      "ordinary multiplication: \n",
      " [[ 30  36  42]\n",
      " [ 66  81  96]\n",
      " [102 126 150]]\n",
      "trace: \n",
      " 261\n",
      "inverse: \n",
      " [[-0.96875     0.4375      0.03125   ]\n",
      " [ 0.0625     -0.125       0.0625    ]\n",
      " [ 0.69791667 -0.22916667  0.03125   ]]\n"
     ]
    }
   ],
   "source": [
    "import numpy as np\n",
    "\n",
    "A=np.array([[1,2,3],[4,5,6],[7,8,9]],dtype=float)\n",
    "B=np.array([[1,2,3],[4,5,6],[7,8,9]],dtype=float)\n",
    "print(\"ordinary multiplication: \\n\", A*B)\n",
    "print(\"ordinary multiplication: \\n\", np.multiply(A,B))\n",
    "print(\"ordinary multiplication: \\n\", np.matmul(A,B))\n",
    "\n",
    "# no need to define a numpy array, numpy converts it automatically\n",
    "A=[[1,2,3],[4,5,6],[7,8,9]]\n",
    "B=[[1,2,3],[4,5,6],[7,8,9]]\n",
    "print(\"ordinary multiplication: \\n\", np.matmul(A,B))\n",
    "print(\"trace: \\n\", np.trace(np.matmul(A,B)))\n",
    "A=[[1,-2,3],[4,-5,6],[7,8,9]]\n",
    "print(\"inverse: \\n\", np.linalg.inv(A))\n",
    "\n",
    "# Huge functionality, you can even read and write MATLAB files"
   ]
  },
  {
   "cell_type": "code",
   "execution_count": 105,
   "metadata": {},
   "outputs": [
    {
     "data": {
      "image/png": "[encoded data removed]",
      "text/plain": [
       "<Figure size 432x288 with 1 Axes>"
      ]
     },
     "metadata": {
      "needs_background": "light"
     },
     "output_type": "display_data"
    }
   ],
   "source": [
    "#Example 1:\n",
    "#!pip install matplotlib\n",
    "import matplotlib.pyplot as plt\n",
    "from numpy.random import rand\n",
    "\n",
    "\n",
    "fig, ax = plt.subplots()\n",
    "for color in ['red', 'green', 'blue']:\n",
    "    n = 750\n",
    "    x, y = rand(2, n)\n",
    "    scale = 200.0 * rand(n)\n",
    "    ax.scatter(x, y, c=color, s=scale, label=color,\n",
    "               alpha=0.3, edgecolors='none')\n",
    "\n",
    "ax.legend()\n",
    "ax.grid(True)\n",
    "plt.xlabel(\"X-Axis Label\")\n",
    "plt.ylabel(\"Y-Axis Label\")\n",
    "plt.title(\"Title Label\")\n",
    "plt.show()"
   ]
  },
  {
   "cell_type": "code",
   "execution_count": 60,
   "metadata": {},
   "outputs": [
    {
     "data": {
      "text/html": [
       "        <script type=\"text/javascript\">\n",
       "        window.PlotlyConfig = {MathJaxConfig: 'local'};\n",
       "        if (window.MathJax) {MathJax.Hub.Config({SVG: {font: \"STIX-Web\"}});}\n",
       "        if (typeof require !== 'undefined') {\n",
       "        require.undef(\"plotly\");\n",
       "        requirejs.config({\n",
       "            paths: {\n",
       "                'plotly': ['https://cdn.plot.ly/plotly-latest.min']\n",
       "            }\n",
       "        });\n",
       "        require(['plotly'], function(Plotly) {\n",
       "            window._Plotly = Plotly;\n",
       "        });\n",
       "        }\n",
       "        </script>\n",
       "        "
      ]
     },
     "metadata": {},
     "output_type": "display_data"
    },
    {
     "data": {
      "application/vnd.plotly.v1+json": {
       "config": {
        "linkText": "Export to plot.ly",
        "plotlyServerURL": "https://plot.ly",
        "showLink": false
       },
       "data": [
        {
         "mode": "lines+markers",
         "name": "sin(1/x)",
         "type": "scatter",
         "x": [
          0.01,
          0.02,
          0.03,
          0.04,
          0.05,
          0.060000000000000005,
          0.06999999999999999,
          0.08,
          0.09,
          0.09999999999999999,
          0.11,
          0.12,
          0.13,
          0.14,
          0.15000000000000002,
          0.16,
          0.17,
          0.18000000000000002,
          0.19,
          0.2,
          0.21000000000000002,
          0.22,
          0.23,
          0.24000000000000002,
          0.25,
          0.26,
          0.27,
          0.28,
          0.29000000000000004,
          0.3,
          0.31,
          0.32,
          0.33,
          0.34,
          0.35000000000000003,
          0.36000000000000004,
          0.37,
          0.38,
          0.39,
          0.4,
          0.41000000000000003,
          0.42000000000000004,
          0.43,
          0.44,
          0.45,
          0.46,
          0.47000000000000003,
          0.48000000000000004,
          0.49,
          0.5,
          0.51,
          0.52,
          0.53,
          0.54,
          0.55,
          0.56,
          0.5700000000000001,
          0.5800000000000001,
          0.59,
          0.6,
          0.61,
          0.62,
          0.63,
          0.64,
          0.65,
          0.66,
          0.67,
          0.68,
          0.6900000000000001,
          0.7000000000000001,
          0.7100000000000001,
          0.72,
          0.73,
          0.74,
          0.75,
          0.76,
          0.77,
          0.78,
          0.79,
          0.8,
          0.81,
          0.8200000000000001,
          0.8300000000000001,
          0.8400000000000001,
          0.85,
          0.86,
          0.87,
          0.88,
          0.89,
          0.9,
          0.91,
          0.92,
          0.93,
          0.9400000000000001,
          0.9500000000000001,
          0.9600000000000001,
          0.97,
          0.98,
          0.99,
          1
         ],
         "y": [
          -0.5063656411097588,
          -0.26237485370392877,
          0.9405295766287635,
          -0.13235175009777303,
          0.9129452507276277,
          -0.8184472531579431,
          0.9889871167196927,
          -0.06632189735120068,
          -0.9933330424549106,
          -0.5440211108893698,
          0.32770070881349816,
          0.8872941080946944,
          0.9869592109709069,
          0.7576284153927196,
          0.37415123057121913,
          -0.03317921654755682,
          -0.390184867177364,
          -0.6651015149788231,
          -0.8521223683683791,
          -0.9589242746631385,
          -0.9987743441441387,
          -0.9860987744909298,
          -0.9342796968042831,
          -0.8547526072388395,
          -0.7568024953079282,
          -0.6476995663440228,
          -0.5329736109671487,
          -0.41672165175349946,
          -0.30189827233570254,
          -0.19056796287548539,
          -0.0841142931130684,
          0.016591892229347906,
          0.11106003812412972,
          0.19907720062779177,
          0.2806293995143573,
          0.3558419914010661,
          0.4249348840678928,
          0.4881892088664755,
          0.5459227664188024,
          0.5984721441039564,
          0.6461798766120231,
          0.6893853965317895,
          0.7284188164446324,
          0.763596812658209,
          0.7952200570230491,
          0.8235717785218403,
          0.8489171396641181,
          0.8715031914412656,
          0.8915592304110037,
          0.9092974268256817,
          0.9249136270203928,
          0.9385882591667079,
          0.9504872909900061,
          0.9607632026814362,
          0.9695559491823237,
          0.9769938941725196,
          0.9831947041343222,
          0.9882661953069056,
          0.9923071295853607,
          0.9954079577517649,
          0.9976515100796004,
          0.9991136354991118,
          0.9998637912800513,
          0.9999655856782489,
          0.9994772762780824,
          0.9984522269003895,
          0.9969393259769239,
          0.9949833692498065,
          0.9926254095611932,
          0.9899030763721238,
          0.9868508675031524,
          0.9835004154323089,
          0.9798807303250027,
          0.9760184218104399,
          0.9719379013633127,
          0.9676615670001469,
          0.9632099718581345,
          0.9586019780913493,
          0.9538548973952701,
          0.9489846193555862,
          0.9440057287111451,
          0.9389316125233084,
          0.9337745581544887,
          0.9285458428767802,
          0.9232558158568609,
          0.9179139731952348,
          0.9125290266358782,
          0.9071089665059848,
          0.9016611193942901,
          0.8961922010299563,
          0.8907083647818117,
          0.8852152461594632,
          0.8797180036630982,
          0.8742213562973249,
          0.8687296180358695,
          0.8632467294980859,
          0.8577762870747848,
          0.8523215697196184,
          0.8468855636029834,
          0.8414709848078965
         ]
        }
       ],
       "layout": {
        "template": {
         "data": {
          "bar": [
           {
            "error_x": {
             "color": "#2a3f5f"
            },
            "error_y": {
             "color": "#2a3f5f"
            },
            "marker": {
             "line": {
              "color": "#E5ECF6",
              "width": 0.5
             }
            },
            "type": "bar"
           }
          ],
          "barpolar": [
           {
            "marker": {
             "line": {
              "color": "#E5ECF6",
              "width": 0.5
             }
            },
            "type": "barpolar"
           }
          ],
          "carpet": [
           {
            "aaxis": {
             "endlinecolor": "#2a3f5f",
             "gridcolor": "white",
             "linecolor": "white",
             "minorgridcolor": "white",
             "startlinecolor": "#2a3f5f"
            },
            "baxis": {
             "endlinecolor": "#2a3f5f",
             "gridcolor": "white",
             "linecolor": "white",
             "minorgridcolor": "white",
             "startlinecolor": "#2a3f5f"
            },
            "type": "carpet"
           }
          ],
          "choropleth": [
           {
            "colorbar": {
             "outlinewidth": 0,
             "ticks": ""
            },
            "type": "choropleth"
           }
          ],
          "contour": [
           {
            "colorbar": {
             "outlinewidth": 0,
             "ticks": ""
            },
            "colorscale": [
             [
              0,
              "#0d0887"
             ],
             [
              0.1111111111111111,
              "#46039f"
             ],
             [
              0.2222222222222222,
              "#7201a8"
             ],
             [
              0.3333333333333333,
              "#9c179e"
             ],
             [
              0.4444444444444444,
              "#bd3786"
             ],
             [
              0.5555555555555556,
              "#d8576b"
             ],
             [
              0.6666666666666666,
              "#ed7953"
             ],
             [
              0.7777777777777778,
              "#fb9f3a"
             ],
             [
              0.8888888888888888,
              "#fdca26"
             ],
             [
              1,
              "#f0f921"
             ]
            ],
            "type": "contour"
           }
          ],
          "contourcarpet": [
           {
            "colorbar": {
             "outlinewidth": 0,
             "ticks": ""
            },
            "type": "contourcarpet"
           }
          ],
          "heatmap": [
           {
            "colorbar": {
             "outlinewidth": 0,
             "ticks": ""
            },
            "colorscale": [
             [
              0,
              "#0d0887"
             ],
             [
              0.1111111111111111,
              "#46039f"
             ],
             [
              0.2222222222222222,
              "#7201a8"
             ],
             [
              0.3333333333333333,
              "#9c179e"
             ],
             [
              0.4444444444444444,
              "#bd3786"
             ],
             [
              0.5555555555555556,
              "#d8576b"
             ],
             [
              0.6666666666666666,
              "#ed7953"
             ],
             [
              0.7777777777777778,
              "#fb9f3a"
             ],
             [
              0.8888888888888888,
              "#fdca26"
             ],
             [
              1,
              "#f0f921"
             ]
            ],
            "type": "heatmap"
           }
          ],
          "heatmapgl": [
           {
            "colorbar": {
             "outlinewidth": 0,
             "ticks": ""
            },
            "colorscale": [
             [
              0,
              "#0d0887"
             ],
             [
              0.1111111111111111,
              "#46039f"
             ],
             [
              0.2222222222222222,
              "#7201a8"
             ],
             [
              0.3333333333333333,
              "#9c179e"
             ],
             [
              0.4444444444444444,
              "#bd3786"
             ],
             [
              0.5555555555555556,
              "#d8576b"
             ],
             [
              0.6666666666666666,
              "#ed7953"
             ],
             [
              0.7777777777777778,
              "#fb9f3a"
             ],
             [
              0.8888888888888888,
              "#fdca26"
             ],
             [
              1,
              "#f0f921"
             ]
            ],
            "type": "heatmapgl"
           }
          ],
          "histogram": [
           {
            "marker": {
             "colorbar": {
              "outlinewidth": 0,
              "ticks": ""
             }
            },
            "type": "histogram"
           }
          ],
          "histogram2d": [
           {
            "colorbar": {
             "outlinewidth": 0,
             "ticks": ""
            },
            "colorscale": [
             [
              0,
              "#0d0887"
             ],
             [
              0.1111111111111111,
              "#46039f"
             ],
             [
              0.2222222222222222,
              "#7201a8"
             ],
             [
              0.3333333333333333,
              "#9c179e"
             ],
             [
              0.4444444444444444,
              "#bd3786"
             ],
             [
              0.5555555555555556,
              "#d8576b"
             ],
             [
              0.6666666666666666,
              "#ed7953"
             ],
             [
              0.7777777777777778,
              "#fb9f3a"
             ],
             [
              0.8888888888888888,
              "#fdca26"
             ],
             [
              1,
              "#f0f921"
             ]
            ],
            "type": "histogram2d"
           }
          ],
          "histogram2dcontour": [
           {
            "colorbar": {
             "outlinewidth": 0,
             "ticks": ""
            },
            "colorscale": [
             [
              0,
              "#0d0887"
             ],
             [
              0.1111111111111111,
              "#46039f"
             ],
             [
              0.2222222222222222,
              "#7201a8"
             ],
             [
              0.3333333333333333,
              "#9c179e"
             ],
             [
              0.4444444444444444,
              "#bd3786"
             ],
             [
              0.5555555555555556,
              "#d8576b"
             ],
             [
              0.6666666666666666,
              "#ed7953"
             ],
             [
              0.7777777777777778,
              "#fb9f3a"
             ],
             [
              0.8888888888888888,
              "#fdca26"
             ],
             [
              1,
              "#f0f921"
             ]
            ],
            "type": "histogram2dcontour"
           }
          ],
          "mesh3d": [
           {
            "colorbar": {
             "outlinewidth": 0,
             "ticks": ""
            },
            "type": "mesh3d"
           }
          ],
          "parcoords": [
           {
            "line": {
             "colorbar": {
              "outlinewidth": 0,
              "ticks": ""
             }
            },
            "type": "parcoords"
           }
          ],
          "pie": [
           {
            "automargin": true,
            "type": "pie"
           }
          ],
          "scatter": [
           {
            "marker": {
             "colorbar": {
              "outlinewidth": 0,
              "ticks": ""
             }
            },
            "type": "scatter"
           }
          ],
          "scatter3d": [
           {
            "line": {
             "colorbar": {
              "outlinewidth": 0,
              "ticks": ""
             }
            },
            "marker": {
             "colorbar": {
              "outlinewidth": 0,
              "ticks": ""
             }
            },
            "type": "scatter3d"
           }
          ],
          "scattercarpet": [
           {
            "marker": {
             "colorbar": {
              "outlinewidth": 0,
              "ticks": ""
             }
            },
            "type": "scattercarpet"
           }
          ],
          "scattergeo": [
           {
            "marker": {
             "colorbar": {
              "outlinewidth": 0,
              "ticks": ""
             }
            },
            "type": "scattergeo"
           }
          ],
          "scattergl": [
           {
            "marker": {
             "colorbar": {
              "outlinewidth": 0,
              "ticks": ""
             }
            },
            "type": "scattergl"
           }
          ],
          "scattermapbox": [
           {
            "marker": {
             "colorbar": {
              "outlinewidth": 0,
              "ticks": ""
             }
            },
            "type": "scattermapbox"
           }
          ],
          "scatterpolar": [
           {
            "marker": {
             "colorbar": {
              "outlinewidth": 0,
              "ticks": ""
             }
            },
            "type": "scatterpolar"
           }
          ],
          "scatterpolargl": [
           {
            "marker": {
             "colorbar": {
              "outlinewidth": 0,
              "ticks": ""
             }
            },
            "type": "scatterpolargl"
           }
          ],
          "scatterternary": [
           {
            "marker": {
             "colorbar": {
              "outlinewidth": 0,
              "ticks": ""
             }
            },
            "type": "scatterternary"
           }
          ],
          "surface": [
           {
            "colorbar": {
             "outlinewidth": 0,
             "ticks": ""
            },
            "colorscale": [
             [
              0,
              "#0d0887"
             ],
             [
              0.1111111111111111,
              "#46039f"
             ],
             [
              0.2222222222222222,
              "#7201a8"
             ],
             [
              0.3333333333333333,
              "#9c179e"
             ],
             [
              0.4444444444444444,
              "#bd3786"
             ],
             [
              0.5555555555555556,
              "#d8576b"
             ],
             [
              0.6666666666666666,
              "#ed7953"
             ],
             [
              0.7777777777777778,
              "#fb9f3a"
             ],
             [
              0.8888888888888888,
              "#fdca26"
             ],
             [
              1,
              "#f0f921"
             ]
            ],
            "type": "surface"
           }
          ],
          "table": [
           {
            "cells": {
             "fill": {
              "color": "#EBF0F8"
             },
             "line": {
              "color": "white"
             }
            },
            "header": {
             "fill": {
              "color": "#C8D4E3"
             },
             "line": {
              "color": "white"
             }
            },
            "type": "table"
           }
          ]
         },
         "layout": {
          "annotationdefaults": {
           "arrowcolor": "#2a3f5f",
           "arrowhead": 0,
           "arrowwidth": 1
          },
          "coloraxis": {
           "colorbar": {
            "outlinewidth": 0,
            "ticks": ""
           }
          },
          "colorscale": {
           "diverging": [
            [
             0,
             "#8e0152"
            ],
            [
             0.1,
             "#c51b7d"
            ],
            [
             0.2,
             "#de77ae"
            ],
            [
             0.3,
             "#f1b6da"
            ],
            [
             0.4,
             "#fde0ef"
            ],
            [
             0.5,
             "#f7f7f7"
            ],
            [
             0.6,
             "#e6f5d0"
            ],
            [
             0.7,
             "#b8e186"
            ],
            [
             0.8,
             "#7fbc41"
            ],
            [
             0.9,
             "#4d9221"
            ],
            [
             1,
             "#276419"
            ]
           ],
           "sequential": [
            [
             0,
             "#0d0887"
            ],
            [
             0.1111111111111111,
             "#46039f"
            ],
            [
             0.2222222222222222,
             "#7201a8"
            ],
            [
             0.3333333333333333,
             "#9c179e"
            ],
            [
             0.4444444444444444,
             "#bd3786"
            ],
            [
             0.5555555555555556,
             "#d8576b"
            ],
            [
             0.6666666666666666,
             "#ed7953"
            ],
            [
             0.7777777777777778,
             "#fb9f3a"
            ],
            [
             0.8888888888888888,
             "#fdca26"
            ],
            [
             1,
             "#f0f921"
            ]
           ],
           "sequentialminus": [
            [
             0,
             "#0d0887"
            ],
            [
             0.1111111111111111,
             "#46039f"
            ],
            [
             0.2222222222222222,
             "#7201a8"
            ],
            [
             0.3333333333333333,
             "#9c179e"
            ],
            [
             0.4444444444444444,
             "#bd3786"
            ],
            [
             0.5555555555555556,
             "#d8576b"
            ],
            [
             0.6666666666666666,
             "#ed7953"
            ],
            [
             0.7777777777777778,
             "#fb9f3a"
            ],
            [
             0.8888888888888888,
             "#fdca26"
            ],
            [
             1,
             "#f0f921"
            ]
           ]
          },
          "colorway": [
           "#636efa",
           "#EF553B",
           "#00cc96",
           "#ab63fa",
           "#FFA15A",
           "#19d3f3",
           "#FF6692",
           "#B6E880",
           "#FF97FF",
           "#FECB52"
          ],
          "font": {
           "color": "#2a3f5f"
          },
          "geo": {
           "bgcolor": "white",
           "lakecolor": "white",
           "landcolor": "#E5ECF6",
           "showlakes": true,
           "showland": true,
           "subunitcolor": "white"
          },
          "hoverlabel": {
           "align": "left"
          },
          "hovermode": "closest",
          "mapbox": {
           "style": "light"
          },
          "paper_bgcolor": "white",
          "plot_bgcolor": "#E5ECF6",
          "polar": {
           "angularaxis": {
            "gridcolor": "white",
            "linecolor": "white",
            "ticks": ""
           },
           "bgcolor": "#E5ECF6",
           "radialaxis": {
            "gridcolor": "white",
            "linecolor": "white",
            "ticks": ""
           }
          },
          "scene": {
           "xaxis": {
            "backgroundcolor": "#E5ECF6",
            "gridcolor": "white",
            "gridwidth": 2,
            "linecolor": "white",
            "showbackground": true,
            "ticks": "",
            "zerolinecolor": "white"
           },
           "yaxis": {
            "backgroundcolor": "#E5ECF6",
            "gridcolor": "white",
            "gridwidth": 2,
            "linecolor": "white",
            "showbackground": true,
            "ticks": "",
            "zerolinecolor": "white"
           },
           "zaxis": {
            "backgroundcolor": "#E5ECF6",
            "gridcolor": "white",
            "gridwidth": 2,
            "linecolor": "white",
            "showbackground": true,
            "ticks": "",
            "zerolinecolor": "white"
           }
          },
          "shapedefaults": {
           "line": {
            "color": "#2a3f5f"
           }
          },
          "ternary": {
           "aaxis": {
            "gridcolor": "white",
            "linecolor": "white",
            "ticks": ""
           },
           "baxis": {
            "gridcolor": "white",
            "linecolor": "white",
            "ticks": ""
           },
           "bgcolor": "#E5ECF6",
           "caxis": {
            "gridcolor": "white",
            "linecolor": "white",
            "ticks": ""
           }
          },
          "title": {
           "x": 0.05
          },
          "xaxis": {
           "automargin": true,
           "gridcolor": "white",
           "linecolor": "white",
           "ticks": "",
           "title": {
            "standoff": 15
           },
           "zerolinecolor": "white",
           "zerolinewidth": 2
          },
          "yaxis": {
           "automargin": true,
           "gridcolor": "white",
           "linecolor": "white",
           "ticks": "",
           "title": {
            "standoff": 15
           },
           "zerolinecolor": "white",
           "zerolinewidth": 2
          }
         }
        }
       }
      },
      "text/html": [
       "<div>\n",
       "        \n",
       "        \n",
       "            <div id=\"272a5055-cfe5-4ec2-bacd-06dd191ccc52\" class=\"plotly-graph-div\" style=\"height:525px; width:100%;\"></div>\n",
       "            <script type=\"text/javascript\">\n",
       "                require([\"plotly\"], function(Plotly) {\n",
       "                    window.PLOTLYENV=window.PLOTLYENV || {};\n",
       "                    \n",
       "                if (document.getElementById(\"272a5055-cfe5-4ec2-bacd-06dd191ccc52\")) {\n",
       "                    Plotly.newPlot(\n",
       "                        '272a5055-cfe5-4ec2-bacd-06dd191ccc52',\n",
       "                        [{\"mode\": \"lines+markers\", \"name\": \"sin(1/x)\", \"type\": \"scatter\", \"x\": [0.01, 0.02, 0.03, 0.04, 0.05, 0.060000000000000005, 0.06999999999999999, 0.08, 0.09, 0.09999999999999999, 0.11, 0.12, 0.13, 0.14, 0.15000000000000002, 0.16, 0.17, 0.18000000000000002, 0.19, 0.2, 0.21000000000000002, 0.22, 0.23, 0.24000000000000002, 0.25, 0.26, 0.27, 0.28, 0.29000000000000004, 0.3, 0.31, 0.32, 0.33, 0.34, 0.35000000000000003, 0.36000000000000004, 0.37, 0.38, 0.39, 0.4, 0.41000000000000003, 0.42000000000000004, 0.43, 0.44, 0.45, 0.46, 0.47000000000000003, 0.48000000000000004, 0.49, 0.5, 0.51, 0.52, 0.53, 0.54, 0.55, 0.56, 0.5700000000000001, 0.5800000000000001, 0.59, 0.6, 0.61, 0.62, 0.63, 0.64, 0.65, 0.66, 0.67, 0.68, 0.6900000000000001, 0.7000000000000001, 0.7100000000000001, 0.72, 0.73, 0.74, 0.75, 0.76, 0.77, 0.78, 0.79, 0.8, 0.81, 0.8200000000000001, 0.8300000000000001, 0.8400000000000001, 0.85, 0.86, 0.87, 0.88, 0.89, 0.9, 0.91, 0.92, 0.93, 0.9400000000000001, 0.9500000000000001, 0.9600000000000001, 0.97, 0.98, 0.99, 1.0], \"y\": [-0.5063656411097588, -0.26237485370392877, 0.9405295766287635, -0.13235175009777303, 0.9129452507276277, -0.8184472531579431, 0.9889871167196927, -0.06632189735120068, -0.9933330424549106, -0.5440211108893698, 0.32770070881349816, 0.8872941080946944, 0.9869592109709069, 0.7576284153927196, 0.37415123057121913, -0.03317921654755682, -0.390184867177364, -0.6651015149788231, -0.8521223683683791, -0.9589242746631385, -0.9987743441441387, -0.9860987744909298, -0.9342796968042831, -0.8547526072388395, -0.7568024953079282, -0.6476995663440228, -0.5329736109671487, -0.41672165175349946, -0.30189827233570254, -0.19056796287548539, -0.0841142931130684, 0.016591892229347906, 0.11106003812412972, 0.19907720062779177, 0.2806293995143573, 0.3558419914010661, 0.4249348840678928, 0.4881892088664755, 0.5459227664188024, 0.5984721441039564, 0.6461798766120231, 0.6893853965317895, 0.7284188164446324, 0.763596812658209, 0.7952200570230491, 0.8235717785218403, 0.8489171396641181, 0.8715031914412656, 0.8915592304110037, 0.9092974268256817, 0.9249136270203928, 0.9385882591667079, 0.9504872909900061, 0.9607632026814362, 0.9695559491823237, 0.9769938941725196, 0.9831947041343222, 0.9882661953069056, 0.9923071295853607, 0.9954079577517649, 0.9976515100796004, 0.9991136354991118, 0.9998637912800513, 0.9999655856782489, 0.9994772762780824, 0.9984522269003895, 0.9969393259769239, 0.9949833692498065, 0.9926254095611932, 0.9899030763721238, 0.9868508675031524, 0.9835004154323089, 0.9798807303250027, 0.9760184218104399, 0.9719379013633127, 0.9676615670001469, 0.9632099718581345, 0.9586019780913493, 0.9538548973952701, 0.9489846193555862, 0.9440057287111451, 0.9389316125233084, 0.9337745581544887, 0.9285458428767802, 0.9232558158568609, 0.9179139731952348, 0.9125290266358782, 0.9071089665059848, 0.9016611193942901, 0.8961922010299563, 0.8907083647818117, 0.8852152461594632, 0.8797180036630982, 0.8742213562973249, 0.8687296180358695, 0.8632467294980859, 0.8577762870747848, 0.8523215697196184, 0.8468855636029834, 0.8414709848078965]}],\n",
       "                        {\"template\": {\"data\": {\"bar\": [{\"error_x\": {\"color\": \"#2a3f5f\"}, \"error_y\": {\"color\": \"#2a3f5f\"}, \"marker\": {\"line\": {\"color\": \"#E5ECF6\", \"width\": 0.5}}, \"type\": \"bar\"}], \"barpolar\": [{\"marker\": {\"line\": {\"color\": \"#E5ECF6\", \"width\": 0.5}}, \"type\": \"barpolar\"}], \"carpet\": [{\"aaxis\": {\"endlinecolor\": \"#2a3f5f\", \"gridcolor\": \"white\", \"linecolor\": \"white\", \"minorgridcolor\": \"white\", \"startlinecolor\": \"#2a3f5f\"}, \"baxis\": {\"endlinecolor\": \"#2a3f5f\", \"gridcolor\": \"white\", \"linecolor\": \"white\", \"minorgridcolor\": \"white\", \"startlinecolor\": \"#2a3f5f\"}, \"type\": \"carpet\"}], \"choropleth\": [{\"colorbar\": {\"outlinewidth\": 0, \"ticks\": \"\"}, \"type\": \"choropleth\"}], \"contour\": [{\"colorbar\": {\"outlinewidth\": 0, \"ticks\": \"\"}, \"colorscale\": [[0.0, \"#0d0887\"], [0.1111111111111111, \"#46039f\"], [0.2222222222222222, \"#7201a8\"], [0.3333333333333333, \"#9c179e\"], [0.4444444444444444, \"#bd3786\"], [0.5555555555555556, \"#d8576b\"], [0.6666666666666666, \"#ed7953\"], [0.7777777777777778, \"#fb9f3a\"], [0.8888888888888888, \"#fdca26\"], [1.0, \"#f0f921\"]], \"type\": \"contour\"}], \"contourcarpet\": [{\"colorbar\": {\"outlinewidth\": 0, \"ticks\": \"\"}, \"type\": \"contourcarpet\"}], \"heatmap\": [{\"colorbar\": {\"outlinewidth\": 0, \"ticks\": \"\"}, \"colorscale\": [[0.0, \"#0d0887\"], [0.1111111111111111, \"#46039f\"], [0.2222222222222222, \"#7201a8\"], [0.3333333333333333, \"#9c179e\"], [0.4444444444444444, \"#bd3786\"], [0.5555555555555556, \"#d8576b\"], [0.6666666666666666, \"#ed7953\"], [0.7777777777777778, \"#fb9f3a\"], [0.8888888888888888, \"#fdca26\"], [1.0, \"#f0f921\"]], \"type\": \"heatmap\"}], \"heatmapgl\": [{\"colorbar\": {\"outlinewidth\": 0, \"ticks\": \"\"}, \"colorscale\": [[0.0, \"#0d0887\"], [0.1111111111111111, \"#46039f\"], [0.2222222222222222, \"#7201a8\"], [0.3333333333333333, \"#9c179e\"], [0.4444444444444444, \"#bd3786\"], [0.5555555555555556, \"#d8576b\"], [0.6666666666666666, \"#ed7953\"], [0.7777777777777778, \"#fb9f3a\"], [0.8888888888888888, \"#fdca26\"], [1.0, \"#f0f921\"]], \"type\": \"heatmapgl\"}], \"histogram\": [{\"marker\": {\"colorbar\": {\"outlinewidth\": 0, \"ticks\": \"\"}}, \"type\": \"histogram\"}], \"histogram2d\": [{\"colorbar\": {\"outlinewidth\": 0, \"ticks\": \"\"}, \"colorscale\": [[0.0, \"#0d0887\"], [0.1111111111111111, \"#46039f\"], [0.2222222222222222, \"#7201a8\"], [0.3333333333333333, \"#9c179e\"], [0.4444444444444444, \"#bd3786\"], [0.5555555555555556, \"#d8576b\"], [0.6666666666666666, \"#ed7953\"], [0.7777777777777778, \"#fb9f3a\"], [0.8888888888888888, \"#fdca26\"], [1.0, \"#f0f921\"]], \"type\": \"histogram2d\"}], \"histogram2dcontour\": [{\"colorbar\": {\"outlinewidth\": 0, \"ticks\": \"\"}, \"colorscale\": [[0.0, \"#0d0887\"], [0.1111111111111111, \"#46039f\"], [0.2222222222222222, \"#7201a8\"], [0.3333333333333333, \"#9c179e\"], [0.4444444444444444, \"#bd3786\"], [0.5555555555555556, \"#d8576b\"], [0.6666666666666666, \"#ed7953\"], [0.7777777777777778, \"#fb9f3a\"], [0.8888888888888888, \"#fdca26\"], [1.0, \"#f0f921\"]], \"type\": \"histogram2dcontour\"}], \"mesh3d\": [{\"colorbar\": {\"outlinewidth\": 0, \"ticks\": \"\"}, \"type\": \"mesh3d\"}], \"parcoords\": [{\"line\": {\"colorbar\": {\"outlinewidth\": 0, \"ticks\": \"\"}}, \"type\": \"parcoords\"}], \"pie\": [{\"automargin\": true, \"type\": \"pie\"}], \"scatter\": [{\"marker\": {\"colorbar\": {\"outlinewidth\": 0, \"ticks\": \"\"}}, \"type\": \"scatter\"}], \"scatter3d\": [{\"line\": {\"colorbar\": {\"outlinewidth\": 0, \"ticks\": \"\"}}, \"marker\": {\"colorbar\": {\"outlinewidth\": 0, \"ticks\": \"\"}}, \"type\": \"scatter3d\"}], \"scattercarpet\": [{\"marker\": {\"colorbar\": {\"outlinewidth\": 0, \"ticks\": \"\"}}, \"type\": \"scattercarpet\"}], \"scattergeo\": [{\"marker\": {\"colorbar\": {\"outlinewidth\": 0, \"ticks\": \"\"}}, \"type\": \"scattergeo\"}], \"scattergl\": [{\"marker\": {\"colorbar\": {\"outlinewidth\": 0, \"ticks\": \"\"}}, \"type\": \"scattergl\"}], \"scattermapbox\": [{\"marker\": {\"colorbar\": {\"outlinewidth\": 0, \"ticks\": \"\"}}, \"type\": \"scattermapbox\"}], \"scatterpolar\": [{\"marker\": {\"colorbar\": {\"outlinewidth\": 0, \"ticks\": \"\"}}, \"type\": \"scatterpolar\"}], \"scatterpolargl\": [{\"marker\": {\"colorbar\": {\"outlinewidth\": 0, \"ticks\": \"\"}}, \"type\": \"scatterpolargl\"}], \"scatterternary\": [{\"marker\": {\"colorbar\": {\"outlinewidth\": 0, \"ticks\": \"\"}}, \"type\": \"scatterternary\"}], \"surface\": [{\"colorbar\": {\"outlinewidth\": 0, \"ticks\": \"\"}, \"colorscale\": [[0.0, \"#0d0887\"], [0.1111111111111111, \"#46039f\"], [0.2222222222222222, \"#7201a8\"], [0.3333333333333333, \"#9c179e\"], [0.4444444444444444, \"#bd3786\"], [0.5555555555555556, \"#d8576b\"], [0.6666666666666666, \"#ed7953\"], [0.7777777777777778, \"#fb9f3a\"], [0.8888888888888888, \"#fdca26\"], [1.0, \"#f0f921\"]], \"type\": \"surface\"}], \"table\": [{\"cells\": {\"fill\": {\"color\": \"#EBF0F8\"}, \"line\": {\"color\": \"white\"}}, \"header\": {\"fill\": {\"color\": \"#C8D4E3\"}, \"line\": {\"color\": \"white\"}}, \"type\": \"table\"}]}, \"layout\": {\"annotationdefaults\": {\"arrowcolor\": \"#2a3f5f\", \"arrowhead\": 0, \"arrowwidth\": 1}, \"coloraxis\": {\"colorbar\": {\"outlinewidth\": 0, \"ticks\": \"\"}}, \"colorscale\": {\"diverging\": [[0, \"#8e0152\"], [0.1, \"#c51b7d\"], [0.2, \"#de77ae\"], [0.3, \"#f1b6da\"], [0.4, \"#fde0ef\"], [0.5, \"#f7f7f7\"], [0.6, \"#e6f5d0\"], [0.7, \"#b8e186\"], [0.8, \"#7fbc41\"], [0.9, \"#4d9221\"], [1, \"#276419\"]], \"sequential\": [[0.0, \"#0d0887\"], [0.1111111111111111, \"#46039f\"], [0.2222222222222222, \"#7201a8\"], [0.3333333333333333, \"#9c179e\"], [0.4444444444444444, \"#bd3786\"], [0.5555555555555556, \"#d8576b\"], [0.6666666666666666, \"#ed7953\"], [0.7777777777777778, \"#fb9f3a\"], [0.8888888888888888, \"#fdca26\"], [1.0, \"#f0f921\"]], \"sequentialminus\": [[0.0, \"#0d0887\"], [0.1111111111111111, \"#46039f\"], [0.2222222222222222, \"#7201a8\"], [0.3333333333333333, \"#9c179e\"], [0.4444444444444444, \"#bd3786\"], [0.5555555555555556, \"#d8576b\"], [0.6666666666666666, \"#ed7953\"], [0.7777777777777778, \"#fb9f3a\"], [0.8888888888888888, \"#fdca26\"], [1.0, \"#f0f921\"]]}, \"colorway\": [\"#636efa\", \"#EF553B\", \"#00cc96\", \"#ab63fa\", \"#FFA15A\", \"#19d3f3\", \"#FF6692\", \"#B6E880\", \"#FF97FF\", \"#FECB52\"], \"font\": {\"color\": \"#2a3f5f\"}, \"geo\": {\"bgcolor\": \"white\", \"lakecolor\": \"white\", \"landcolor\": \"#E5ECF6\", \"showlakes\": true, \"showland\": true, \"subunitcolor\": \"white\"}, \"hoverlabel\": {\"align\": \"left\"}, \"hovermode\": \"closest\", \"mapbox\": {\"style\": \"light\"}, \"paper_bgcolor\": \"white\", \"plot_bgcolor\": \"#E5ECF6\", \"polar\": {\"angularaxis\": {\"gridcolor\": \"white\", \"linecolor\": \"white\", \"ticks\": \"\"}, \"bgcolor\": \"#E5ECF6\", \"radialaxis\": {\"gridcolor\": \"white\", \"linecolor\": \"white\", \"ticks\": \"\"}}, \"scene\": {\"xaxis\": {\"backgroundcolor\": \"#E5ECF6\", \"gridcolor\": \"white\", \"gridwidth\": 2, \"linecolor\": \"white\", \"showbackground\": true, \"ticks\": \"\", \"zerolinecolor\": \"white\"}, \"yaxis\": {\"backgroundcolor\": \"#E5ECF6\", \"gridcolor\": \"white\", \"gridwidth\": 2, \"linecolor\": \"white\", \"showbackground\": true, \"ticks\": \"\", \"zerolinecolor\": \"white\"}, \"zaxis\": {\"backgroundcolor\": \"#E5ECF6\", \"gridcolor\": \"white\", \"gridwidth\": 2, \"linecolor\": \"white\", \"showbackground\": true, \"ticks\": \"\", \"zerolinecolor\": \"white\"}}, \"shapedefaults\": {\"line\": {\"color\": \"#2a3f5f\"}}, \"ternary\": {\"aaxis\": {\"gridcolor\": \"white\", \"linecolor\": \"white\", \"ticks\": \"\"}, \"baxis\": {\"gridcolor\": \"white\", \"linecolor\": \"white\", \"ticks\": \"\"}, \"bgcolor\": \"#E5ECF6\", \"caxis\": {\"gridcolor\": \"white\", \"linecolor\": \"white\", \"ticks\": \"\"}}, \"title\": {\"x\": 0.05}, \"xaxis\": {\"automargin\": true, \"gridcolor\": \"white\", \"linecolor\": \"white\", \"ticks\": \"\", \"title\": {\"standoff\": 15}, \"zerolinecolor\": \"white\", \"zerolinewidth\": 2}, \"yaxis\": {\"automargin\": true, \"gridcolor\": \"white\", \"linecolor\": \"white\", \"ticks\": \"\", \"title\": {\"standoff\": 15}, \"zerolinecolor\": \"white\", \"zerolinewidth\": 2}}}},\n",
       "                        {\"responsive\": true}\n",
       "                    ).then(function(){\n",
       "                            \n",
       "var gd = document.getElementById('272a5055-cfe5-4ec2-bacd-06dd191ccc52');\n",
       "var x = new MutationObserver(function (mutations, observer) {{\n",
       "        var display = window.getComputedStyle(gd).display;\n",
       "        if (!display || display === 'none') {{\n",
       "            console.log([gd, 'removed!']);\n",
       "            Plotly.purge(gd);\n",
       "            observer.disconnect();\n",
       "        }}\n",
       "}});\n",
       "\n",
       "// Listen for the removal of the full notebook cells\n",
       "var notebookContainer = gd.closest('#notebook-container');\n",
       "if (notebookContainer) {{\n",
       "    x.observe(notebookContainer, {childList: true});\n",
       "}}\n",
       "\n",
       "// Listen for the clearing of the current output cell\n",
       "var outputEl = gd.closest('.output');\n",
       "if (outputEl) {{\n",
       "    x.observe(outputEl, {childList: true});\n",
       "}}\n",
       "\n",
       "                        })\n",
       "                };\n",
       "                });\n",
       "            </script>\n",
       "        </div>"
      ]
     },
     "metadata": {},
     "output_type": "display_data"
    }
   ],
   "source": [
    "#Example 2:\n",
    "#!pip install plotly\n",
    "import plotly.offline as py\n",
    "py.init_notebook_mode(connected=True)\n",
    "import plotly.graph_objs as go\n",
    "from numpy import linspace, sin\n",
    "x1 = linspace(0.01,1,100)\n",
    "y1 = sin(1/x1)\n",
    "trace1 = go.Scatter(x=x1, y=y1, mode='lines+markers', name='sin(1/x)')\n",
    "data = [trace1]\n",
    "py.iplot(data)   # create a unique URL and open the plot inline in a Jupyter Notebook, You could use py.plot \n",
    "#to make an html file in the current directory\n",
    "\n",
    "#exercise: Plot cos(1/x)"
   ]
  },
  {
   "cell_type": "code",
   "execution_count": 61,
   "metadata": {},
   "outputs": [
    {
     "data": {
      "text/html": [
       "        <script type=\"text/javascript\">\n",
       "        window.PlotlyConfig = {MathJaxConfig: 'local'};\n",
       "        if (window.MathJax) {MathJax.Hub.Config({SVG: {font: \"STIX-Web\"}});}\n",
       "        if (typeof require !== 'undefined') {\n",
       "        require.undef(\"plotly\");\n",
       "        requirejs.config({\n",
       "            paths: {\n",
       "                'plotly': ['https://cdn.plot.ly/plotly-latest.min']\n",
       "            }\n",
       "        });\n",
       "        require(['plotly'], function(Plotly) {\n",
       "            window._Plotly = Plotly;\n",
       "        });\n",
       "        }\n",
       "        </script>\n",
       "        "
      ]
     },
     "metadata": {},
     "output_type": "display_data"
    },
    {
     "data": {
      "application/vnd.plotly.v1+json": {
       "config": {
        "linkText": "Export to plot.ly",
        "plotlyServerURL": "https://plot.ly",
        "showLink": false
       },
       "data": [
        {
         "type": "surface",
         "z": [
          [
           0,
           27.80985,
           49.61936,
           83.08067,
           116.6632,
           130.414,
           150.7206,
           220.1871,
           156.1536,
           148.6416,
           203.7845,
           206.0386,
           107.1618,
           68.36975,
           45.3359,
           49.961420000000004,
           21.892789999999998,
           17.02552,
           11.74317,
           14.75226,
           13.6671,
           5.677561,
           3.3123400000000003,
           1.156517,
           -0.147662
          ],
          [
           1,
           27.719659999999998,
           48.55022,
           65.21374,
           95.27665999999999,
           116.9964,
           133.9056,
           152.3412,
           151.934,
           160.1139,
           179.5327,
           147.6184,
           170.3943,
           121.8194,
           52.58537,
           33.08871,
           38.40972,
           44.24843,
           69.5786,
           4.019351,
           3.050024,
           3.039719,
           2.996142,
           2.967954,
           1.9995939999999999
          ],
          [
           2,
           30.4267,
           33.47752,
           44.80953,
           62.47495,
           77.43523,
           104.2153,
           102.7393,
           137.0004,
           186.0706,
           219.3173,
           181.7615,
           120.9154,
           143.1835,
           82.40501,
           48.47132,
           74.71461,
           60.0909,
           7.073525,
           6.089851,
           6.53745,
           6.6660960000000005,
           7.306964999999999,
           5.73684,
           3.625628
          ],
          [
           3,
           16.66549,
           30.1086,
           39.96952,
           44.12225,
           59.57512,
           77.56929000000001,
           106.8925,
           166.5539,
           175.2381,
           185.2815,
           154.5056,
           83.0433,
           62.61731999999999,
           62.331669999999995,
           60.55916,
           55.921240000000004,
           15.172839999999999,
           8.248324,
           36.68087,
           61.93413,
           20.26867,
           68.58819,
           46.49812,
           0.23600949999999998
          ],
          [
           4,
           8.815617,
           18.3516,
           8.658275,
           27.5859,
           48.626909999999995,
           60.180130000000005,
           91.3286,
           145.7109,
           116.0653,
           106.2662,
           68.69447,
           53.105959999999996,
           37.92797,
           47.95942,
           47.42691,
           69.20730999999999,
           44.954679999999996,
           29.17197,
           17.91674,
           16.25515,
           14.65559,
           17.260479999999998,
           31.22245,
           46.717040000000004
          ],
          [
           5,
           6.628881,
           10.41339,
           24.81939,
           26.08952,
           30.1605,
           52.30802,
           64.71007,
           76.30823000000001,
           84.63686,
           99.4324,
           62.521319999999996,
           46.81647,
           55.766059999999996,
           82.4099,
           140.2647,
           81.26501,
           56.45756,
           30.421640000000004,
           17.28782,
           8.302431,
           2.981626,
           2.6985360000000003,
           5.886086,
           5.268358
          ],
          [
           6,
           21.83975,
           6.63927,
           18.97085,
           32.89204,
           43.15014,
           62.86014,
           104.6657,
           130.2294,
           114.8494,
           106.9873,
           61.896469999999994,
           55.556819999999995,
           86.80986,
           89.27802,
           122.4221,
           123.9698,
           109.0952,
           98.41956,
           77.61374,
           32.49031,
           14.67344,
           7.370775,
           0.03711011,
           0.6423392
          ],
          [
           7,
           53.343030000000006,
           26.79797,
           6.63927,
           10.88787,
           17.2044,
           56.18116,
           79.70141,
           90.8453,
           98.27675,
           80.87243000000001,
           74.7931,
           75.54661,
           73.4373,
           74.11694,
           68.1749,
           46.240759999999995,
           39.93857,
           31.21653,
           36.88335,
           40.02525,
           117.4297,
           12.70328,
           1.729771,
           0
          ],
          [
           8,
           25.66785,
           63.05716999999999,
           22.1414,
           17.074,
           41.74483,
           60.27226999999999,
           81.42432,
           114.444,
           102.3234,
           101.7878,
           111.031,
           119.2309,
           114.0777,
           110.5296,
           59.19355,
           42.47175,
           14.635979999999998,
           6.9440740000000005,
           6.944075,
           27.74936,
           0,
           0,
           0.09449376,
           0.07732264
          ],
          [
           9,
           12.827,
           69.20554,
           46.76293,
           13.96517,
           33.887440000000005,
           61.826130000000006,
           84.74799,
           121.12200000000001,
           145.2741,
           153.1797,
           204.78599999999997,
           227.9242,
           236.3038,
           228.3655,
           79.34425,
           25.934829999999998,
           6.9440740000000005,
           6.9440740000000005,
           6.944075,
           7.553681,
           0,
           0,
           0,
           0
          ],
          [
           10,
           0,
           68.66396,
           59.0435,
           33.357620000000004,
           47.45282,
           57.8355,
           78.91689000000001,
           107.8275,
           168.0053,
           130.9597,
           212.5541,
           165.8122,
           210.2429,
           181.1713,
           189.7617,
           137.3378,
           84.65395,
           8.677168,
           6.956575999999999,
           8.468093,
           0,
           0,
           0,
           0
          ],
          [
           11,
           0,
           95.17499000000001,
           80.03818000000001,
           59.898619999999994,
           39.584759999999996,
           50.28058,
           63.81641,
           80.61301999999999,
           66.37824,
           198.7651,
           244.3467,
           294.2474,
           264.3517,
           176.4082,
           60.21856999999999,
           77.41475,
           53.16981,
           56.16393000000001,
           6.949235000000001,
           7.531059,
           3.7801769999999997,
           0,
           0,
           0
          ],
          [
           12,
           0,
           134.9879,
           130.3696,
           96.86325,
           75.70494000000001,
           58.86466,
           57.20374,
           55.18836999999999,
           78.128,
           108.5582,
           154.3774,
           319.1686,
           372.8826,
           275.4655,
           130.2632,
           54.938219999999994,
           25.49719,
           8.047439,
           8.084392999999999,
           5.115252,
           5.678269,
           0,
           0,
           0
          ],
          [
           13,
           0,
           48.08919,
           142.5558,
           140.3777,
           154.7261,
           87.9361,
           58.11091999999999,
           52.83869,
           67.14822,
           83.66798,
           118.9242,
           150.0681,
           272.9709,
           341.1366,
           238.66400000000002,
           190.2,
           116.8943,
           91.48671999999999,
           14.0157,
           42.292770000000004,
           5.115252,
           0,
           0,
           0
          ],
          [
           14,
           0,
           54.1941,
           146.3839,
           99.48143,
           96.19411,
           102.9473,
           76.14089,
           57.7844,
           47.0402,
           64.36799,
           84.23767,
           162.7181,
           121.3275,
           213.1646,
           328.48199999999997,
           285.4489,
           283.8319,
           212.815,
           164.549,
           92.29630999999999,
           7.244014999999999,
           1.167,
           0,
           0
          ],
          [
           15,
           0,
           6.919658999999999,
           195.1709,
           132.5253,
           135.2341,
           89.85069,
           89.45549,
           60.29966999999999,
           50.33806,
           39.17583,
           59.068540000000006,
           74.52159,
           84.93401999999999,
           187.1219,
           123.9673,
           103.7027,
           128.986,
           165.1283,
           249.7054,
           95.39966,
           10.002839999999999,
           2.39255,
           0,
           0
          ],
          [
           16,
           0,
           21.73871,
           123.1339,
           176.7414,
           158.2698,
           137.235,
           105.3089,
           86.63255,
           53.11591,
           29.03865,
           30.40539,
           39.04902,
           49.23405,
           63.27853,
           111.4215,
           101.1956,
           40.00962,
           59.84565,
           74.51253,
           17.06316,
           2.435141,
           2.287471,
           -0.0003636982,
           0
          ],
          [
           17,
           0,
           0,
           62.04671999999999,
           136.3122,
           201.7952,
           168.1343,
           95.2046,
           58.906240000000004,
           46.940909999999995,
           49.27053,
           37.10416,
           17.970110000000002,
           30.936970000000002,
           33.39257,
           44.030770000000004,
           55.645419999999994,
           78.22423,
           14.42782,
           9.954997,
           7.768213,
           13.0254,
           21.73166,
           2.156372,
           0.5317867
          ],
          [
           18,
           0,
           0,
           79.62993,
           139.6978,
           173.167,
           192.8718,
           196.3499,
           144.6611,
           106.5424,
           57.16653,
           41.16107,
           32.12764,
           13.8566,
           10.91772,
           12.071769999999999,
           22.38254,
           24.72105,
           6.803666000000001,
           4.2008410000000005,
           16.46857,
           15.70744,
           33.96221,
           7.575688,
           -0.04880907
          ],
          [
           19,
           0,
           0,
           33.2664,
           57.53643,
           167.2241,
           196.4833,
           194.7966,
           182.1884,
           119.6961,
           73.02113,
           48.36549,
           33.746520000000004,
           26.2379,
           16.3578,
           6.811292999999999,
           6.63927,
           6.639271000000001,
           8.468093,
           6.194273,
           3.5912330000000003,
           3.81486,
           8.600739,
           5.21889,
           0
          ],
          [
           20,
           0,
           0,
           29.77937,
           54.97282,
           144.7995,
           207.4904,
           165.3432,
           171.4047,
           174.9216,
           100.2733,
           61.46441,
           50.19171,
           26.08209,
           17.18218,
           8.468093,
           6.63927,
           6.334467,
           6.334467,
           5.6666870000000005,
           4.272203,
           0,
           0,
           0,
           0
          ],
          [
           21,
           0,
           0,
           31.409000000000002,
           132.7418,
           185.5796,
           121.8299,
           185.3841,
           160.6566,
           116.1478,
           118.1078,
           141.7946,
           65.56351,
           48.84066,
           23.13864,
           18.12932,
           10.28531,
           6.029662999999999,
           6.044626999999999,
           5.694764,
           3.7390849999999998,
           3.896037,
           0,
           0,
           0
          ],
          [
           22,
           0,
           0,
           19.58994,
           42.30355,
           96.26777,
           187.1207,
           179.6626,
           221.3898,
           154.2617,
           142.1604,
           148.5737,
           67.17936999999999,
           40.69044,
           39.74512,
           26.10166,
           14.484689999999999,
           8.65873,
           3.896037,
           3.571392,
           3.896037,
           3.896037,
           3.896037,
           1.077756,
           0
          ],
          [
           23,
           0.001229679,
           3.008948,
           5.909858,
           33.50574,
           104.3341,
           152.2165,
           198.1988,
           191.84099999999998,
           228.7349,
           168.1041,
           144.2759,
           110.7436,
           57.65214,
           42.635040000000004,
           27.918909999999997,
           15.410520000000002,
           8.056102000000001,
           3.9028300000000002,
           3.879774,
           3.936718,
           3.9686339999999998,
           0.1236256,
           3.985531,
           -0.1835741
          ],
          [
           24,
           0,
           5.6261410000000005,
           7.6762559999999995,
           63.162259999999996,
           45.99762,
           79.56688,
           227.31099999999998,
           203.9287,
           172.5618,
           177.1462,
           140.4554,
           123.9905,
           110.346,
           65.12319000000001,
           34.318870000000004,
           24.5278,
           9.561069,
           3.3349910000000005,
           5.590495,
           5.487353,
           5.909498999999999,
           5.868994,
           5.833817,
           3.5681769999999995
          ]
         ]
        }
       ],
       "layout": {
        "height": 800,
        "margin": {
         "b": 65,
         "l": 65,
         "r": 10,
         "t": 90
        },
        "template": {
         "data": {
          "bar": [
           {
            "error_x": {
             "color": "#2a3f5f"
            },
            "error_y": {
             "color": "#2a3f5f"
            },
            "marker": {
             "line": {
              "color": "#E5ECF6",
              "width": 0.5
             }
            },
            "type": "bar"
           }
          ],
          "barpolar": [
           {
            "marker": {
             "line": {
              "color": "#E5ECF6",
              "width": 0.5
             }
            },
            "type": "barpolar"
           }
          ],
          "carpet": [
           {
            "aaxis": {
             "endlinecolor": "#2a3f5f",
             "gridcolor": "white",
             "linecolor": "white",
             "minorgridcolor": "white",
             "startlinecolor": "#2a3f5f"
            },
            "baxis": {
             "endlinecolor": "#2a3f5f",
             "gridcolor": "white",
             "linecolor": "white",
             "minorgridcolor": "white",
             "startlinecolor": "#2a3f5f"
            },
            "type": "carpet"
           }
          ],
          "choropleth": [
           {
            "colorbar": {
             "outlinewidth": 0,
             "ticks": ""
            },
            "type": "choropleth"
           }
          ],
          "contour": [
           {
            "colorbar": {
             "outlinewidth": 0,
             "ticks": ""
            },
            "colorscale": [
             [
              0,
              "#0d0887"
             ],
             [
              0.1111111111111111,
              "#46039f"
             ],
             [
              0.2222222222222222,
              "#7201a8"
             ],
             [
              0.3333333333333333,
              "#9c179e"
             ],
             [
              0.4444444444444444,
              "#bd3786"
             ],
             [
              0.5555555555555556,
              "#d8576b"
             ],
             [
              0.6666666666666666,
              "#ed7953"
             ],
             [
              0.7777777777777778,
              "#fb9f3a"
             ],
             [
              0.8888888888888888,
              "#fdca26"
             ],
             [
              1,
              "#f0f921"
             ]
            ],
            "type": "contour"
           }
          ],
          "contourcarpet": [
           {
            "colorbar": {
             "outlinewidth": 0,
             "ticks": ""
            },
            "type": "contourcarpet"
           }
          ],
          "heatmap": [
           {
            "colorbar": {
             "outlinewidth": 0,
             "ticks": ""
            },
            "colorscale": [
             [
              0,
              "#0d0887"
             ],
             [
              0.1111111111111111,
              "#46039f"
             ],
             [
              0.2222222222222222,
              "#7201a8"
             ],
             [
              0.3333333333333333,
              "#9c179e"
             ],
             [
              0.4444444444444444,
              "#bd3786"
             ],
             [
              0.5555555555555556,
              "#d8576b"
             ],
             [
              0.6666666666666666,
              "#ed7953"
             ],
             [
              0.7777777777777778,
              "#fb9f3a"
             ],
             [
              0.8888888888888888,
              "#fdca26"
             ],
             [
              1,
              "#f0f921"
             ]
            ],
            "type": "heatmap"
           }
          ],
          "heatmapgl": [
           {
            "colorbar": {
             "outlinewidth": 0,
             "ticks": ""
            },
            "colorscale": [
             [
              0,
              "#0d0887"
             ],
             [
              0.1111111111111111,
              "#46039f"
             ],
             [
              0.2222222222222222,
              "#7201a8"
             ],
             [
              0.3333333333333333,
              "#9c179e"
             ],
             [
              0.4444444444444444,
              "#bd3786"
             ],
             [
              0.5555555555555556,
              "#d8576b"
             ],
             [
              0.6666666666666666,
              "#ed7953"
             ],
             [
              0.7777777777777778,
              "#fb9f3a"
             ],
             [
              0.8888888888888888,
              "#fdca26"
             ],
             [
              1,
              "#f0f921"
             ]
            ],
            "type": "heatmapgl"
           }
          ],
          "histogram": [
           {
            "marker": {
             "colorbar": {
              "outlinewidth": 0,
              "ticks": ""
             }
            },
            "type": "histogram"
           }
          ],
          "histogram2d": [
           {
            "colorbar": {
             "outlinewidth": 0,
             "ticks": ""
            },
            "colorscale": [
             [
              0,
              "#0d0887"
             ],
             [
              0.1111111111111111,
              "#46039f"
             ],
             [
              0.2222222222222222,
              "#7201a8"
             ],
             [
              0.3333333333333333,
              "#9c179e"
             ],
             [
              0.4444444444444444,
              "#bd3786"
             ],
             [
              0.5555555555555556,
              "#d8576b"
             ],
             [
              0.6666666666666666,
              "#ed7953"
             ],
             [
              0.7777777777777778,
              "#fb9f3a"
             ],
             [
              0.8888888888888888,
              "#fdca26"
             ],
             [
              1,
              "#f0f921"
             ]
            ],
            "type": "histogram2d"
           }
          ],
          "histogram2dcontour": [
           {
            "colorbar": {
             "outlinewidth": 0,
             "ticks": ""
            },
            "colorscale": [
             [
              0,
              "#0d0887"
             ],
             [
              0.1111111111111111,
              "#46039f"
             ],
             [
              0.2222222222222222,
              "#7201a8"
             ],
             [
              0.3333333333333333,
              "#9c179e"
             ],
             [
              0.4444444444444444,
              "#bd3786"
             ],
             [
              0.5555555555555556,
              "#d8576b"
             ],
             [
              0.6666666666666666,
              "#ed7953"
             ],
             [
              0.7777777777777778,
              "#fb9f3a"
             ],
             [
              0.8888888888888888,
              "#fdca26"
             ],
             [
              1,
              "#f0f921"
             ]
            ],
            "type": "histogram2dcontour"
           }
          ],
          "mesh3d": [
           {
            "colorbar": {
             "outlinewidth": 0,
             "ticks": ""
            },
            "type": "mesh3d"
           }
          ],
          "parcoords": [
           {
            "line": {
             "colorbar": {
              "outlinewidth": 0,
              "ticks": ""
             }
            },
            "type": "parcoords"
           }
          ],
          "pie": [
           {
            "automargin": true,
            "type": "pie"
           }
          ],
          "scatter": [
           {
            "marker": {
             "colorbar": {
              "outlinewidth": 0,
              "ticks": ""
             }
            },
            "type": "scatter"
           }
          ],
          "scatter3d": [
           {
            "line": {
             "colorbar": {
              "outlinewidth": 0,
              "ticks": ""
             }
            },
            "marker": {
             "colorbar": {
              "outlinewidth": 0,
              "ticks": ""
             }
            },
            "type": "scatter3d"
           }
          ],
          "scattercarpet": [
           {
            "marker": {
             "colorbar": {
              "outlinewidth": 0,
              "ticks": ""
             }
            },
            "type": "scattercarpet"
           }
          ],
          "scattergeo": [
           {
            "marker": {
             "colorbar": {
              "outlinewidth": 0,
              "ticks": ""
             }
            },
            "type": "scattergeo"
           }
          ],
          "scattergl": [
           {
            "marker": {
             "colorbar": {
              "outlinewidth": 0,
              "ticks": ""
             }
            },
            "type": "scattergl"
           }
          ],
          "scattermapbox": [
           {
            "marker": {
             "colorbar": {
              "outlinewidth": 0,
              "ticks": ""
             }
            },
            "type": "scattermapbox"
           }
          ],
          "scatterpolar": [
           {
            "marker": {
             "colorbar": {
              "outlinewidth": 0,
              "ticks": ""
             }
            },
            "type": "scatterpolar"
           }
          ],
          "scatterpolargl": [
           {
            "marker": {
             "colorbar": {
              "outlinewidth": 0,
              "ticks": ""
             }
            },
            "type": "scatterpolargl"
           }
          ],
          "scatterternary": [
           {
            "marker": {
             "colorbar": {
              "outlinewidth": 0,
              "ticks": ""
             }
            },
            "type": "scatterternary"
           }
          ],
          "surface": [
           {
            "colorbar": {
             "outlinewidth": 0,
             "ticks": ""
            },
            "colorscale": [
             [
              0,
              "#0d0887"
             ],
             [
              0.1111111111111111,
              "#46039f"
             ],
             [
              0.2222222222222222,
              "#7201a8"
             ],
             [
              0.3333333333333333,
              "#9c179e"
             ],
             [
              0.4444444444444444,
              "#bd3786"
             ],
             [
              0.5555555555555556,
              "#d8576b"
             ],
             [
              0.6666666666666666,
              "#ed7953"
             ],
             [
              0.7777777777777778,
              "#fb9f3a"
             ],
             [
              0.8888888888888888,
              "#fdca26"
             ],
             [
              1,
              "#f0f921"
             ]
            ],
            "type": "surface"
           }
          ],
          "table": [
           {
            "cells": {
             "fill": {
              "color": "#EBF0F8"
             },
             "line": {
              "color": "white"
             }
            },
            "header": {
             "fill": {
              "color": "#C8D4E3"
             },
             "line": {
              "color": "white"
             }
            },
            "type": "table"
           }
          ]
         },
         "layout": {
          "annotationdefaults": {
           "arrowcolor": "#2a3f5f",
           "arrowhead": 0,
           "arrowwidth": 1
          },
          "coloraxis": {
           "colorbar": {
            "outlinewidth": 0,
            "ticks": ""
           }
          },
          "colorscale": {
           "diverging": [
            [
             0,
             "#8e0152"
            ],
            [
             0.1,
             "#c51b7d"
            ],
            [
             0.2,
             "#de77ae"
            ],
            [
             0.3,
             "#f1b6da"
            ],
            [
             0.4,
             "#fde0ef"
            ],
            [
             0.5,
             "#f7f7f7"
            ],
            [
             0.6,
             "#e6f5d0"
            ],
            [
             0.7,
             "#b8e186"
            ],
            [
             0.8,
             "#7fbc41"
            ],
            [
             0.9,
             "#4d9221"
            ],
            [
             1,
             "#276419"
            ]
           ],
           "sequential": [
            [
             0,
             "#0d0887"
            ],
            [
             0.1111111111111111,
             "#46039f"
            ],
            [
             0.2222222222222222,
             "#7201a8"
            ],
            [
             0.3333333333333333,
             "#9c179e"
            ],
            [
             0.4444444444444444,
             "#bd3786"
            ],
            [
             0.5555555555555556,
             "#d8576b"
            ],
            [
             0.6666666666666666,
             "#ed7953"
            ],
            [
             0.7777777777777778,
             "#fb9f3a"
            ],
            [
             0.8888888888888888,
             "#fdca26"
            ],
            [
             1,
             "#f0f921"
            ]
           ],
           "sequentialminus": [
            [
             0,
             "#0d0887"
            ],
            [
             0.1111111111111111,
             "#46039f"
            ],
            [
             0.2222222222222222,
             "#7201a8"
            ],
            [
             0.3333333333333333,
             "#9c179e"
            ],
            [
             0.4444444444444444,
             "#bd3786"
            ],
            [
             0.5555555555555556,
             "#d8576b"
            ],
            [
             0.6666666666666666,
             "#ed7953"
            ],
            [
             0.7777777777777778,
             "#fb9f3a"
            ],
            [
             0.8888888888888888,
             "#fdca26"
            ],
            [
             1,
             "#f0f921"
            ]
           ]
          },
          "colorway": [
           "#636efa",
           "#EF553B",
           "#00cc96",
           "#ab63fa",
           "#FFA15A",
           "#19d3f3",
           "#FF6692",
           "#B6E880",
           "#FF97FF",
           "#FECB52"
          ],
          "font": {
           "color": "#2a3f5f"
          },
          "geo": {
           "bgcolor": "white",
           "lakecolor": "white",
           "landcolor": "#E5ECF6",
           "showlakes": true,
           "showland": true,
           "subunitcolor": "white"
          },
          "hoverlabel": {
           "align": "left"
          },
          "hovermode": "closest",
          "mapbox": {
           "style": "light"
          },
          "paper_bgcolor": "white",
          "plot_bgcolor": "#E5ECF6",
          "polar": {
           "angularaxis": {
            "gridcolor": "white",
            "linecolor": "white",
            "ticks": ""
           },
           "bgcolor": "#E5ECF6",
           "radialaxis": {
            "gridcolor": "white",
            "linecolor": "white",
            "ticks": ""
           }
          },
          "scene": {
           "xaxis": {
            "backgroundcolor": "#E5ECF6",
            "gridcolor": "white",
            "gridwidth": 2,
            "linecolor": "white",
            "showbackground": true,
            "ticks": "",
            "zerolinecolor": "white"
           },
           "yaxis": {
            "backgroundcolor": "#E5ECF6",
            "gridcolor": "white",
            "gridwidth": 2,
            "linecolor": "white",
            "showbackground": true,
            "ticks": "",
            "zerolinecolor": "white"
           },
           "zaxis": {
            "backgroundcolor": "#E5ECF6",
            "gridcolor": "white",
            "gridwidth": 2,
            "linecolor": "white",
            "showbackground": true,
            "ticks": "",
            "zerolinecolor": "white"
           }
          },
          "shapedefaults": {
           "line": {
            "color": "#2a3f5f"
           }
          },
          "ternary": {
           "aaxis": {
            "gridcolor": "white",
            "linecolor": "white",
            "ticks": ""
           },
           "baxis": {
            "gridcolor": "white",
            "linecolor": "white",
            "ticks": ""
           },
           "bgcolor": "#E5ECF6",
           "caxis": {
            "gridcolor": "white",
            "linecolor": "white",
            "ticks": ""
           }
          },
          "title": {
           "x": 0.05
          },
          "xaxis": {
           "automargin": true,
           "gridcolor": "white",
           "linecolor": "white",
           "ticks": "",
           "title": {
            "standoff": 15
           },
           "zerolinecolor": "white",
           "zerolinewidth": 2
          },
          "yaxis": {
           "automargin": true,
           "gridcolor": "white",
           "linecolor": "white",
           "ticks": "",
           "title": {
            "standoff": 15
           },
           "zerolinecolor": "white",
           "zerolinewidth": 2
          }
         }
        },
        "title": {
         "text": "Mt Bruno Elevation"
        },
        "width": 800
       }
      },
      "text/html": [
       "<div>\n",
       "        \n",
       "        \n",
       "            <div id=\"e30c79e6-8737-4307-bd82-88ca0c416e64\" class=\"plotly-graph-div\" style=\"height:800px; width:800px;\"></div>\n",
       "            <script type=\"text/javascript\">\n",
       "                require([\"plotly\"], function(Plotly) {\n",
       "                    window.PLOTLYENV=window.PLOTLYENV || {};\n",
       "                    \n",
       "                if (document.getElementById(\"e30c79e6-8737-4307-bd82-88ca0c416e64\")) {\n",
       "                    Plotly.newPlot(\n",
       "                        'e30c79e6-8737-4307-bd82-88ca0c416e64',\n",
       "                        [{\"type\": \"surface\", \"z\": [[0.0, 27.80985, 49.61936, 83.08067, 116.6632, 130.414, 150.7206, 220.1871, 156.1536, 148.6416, 203.7845, 206.0386, 107.1618, 68.36975, 45.3359, 49.961420000000004, 21.892789999999998, 17.02552, 11.74317, 14.75226, 13.6671, 5.677561, 3.3123400000000003, 1.156517, -0.147662], [1.0, 27.719659999999998, 48.55022, 65.21374, 95.27665999999999, 116.9964, 133.9056, 152.3412, 151.934, 160.1139, 179.5327, 147.6184, 170.3943, 121.8194, 52.58537, 33.08871, 38.40972, 44.24843, 69.5786, 4.019351, 3.050024, 3.039719, 2.996142, 2.967954, 1.9995939999999999], [2.0, 30.4267, 33.47752, 44.80953, 62.47495, 77.43523, 104.2153, 102.7393, 137.0004, 186.0706, 219.3173, 181.7615, 120.9154, 143.1835, 82.40501, 48.47132, 74.71461, 60.0909, 7.073525, 6.089851, 6.53745, 6.6660960000000005, 7.306964999999999, 5.73684, 3.625628], [3.0, 16.66549, 30.1086, 39.96952, 44.12225, 59.57512, 77.56929000000001, 106.8925, 166.5539, 175.2381, 185.2815, 154.5056, 83.0433, 62.61731999999999, 62.331669999999995, 60.55916, 55.921240000000004, 15.172839999999999, 8.248324, 36.68087, 61.93413, 20.26867, 68.58819, 46.49812, 0.23600949999999998], [4.0, 8.815617, 18.3516, 8.658275, 27.5859, 48.626909999999995, 60.180130000000005, 91.3286, 145.7109, 116.0653, 106.2662, 68.69447, 53.105959999999996, 37.92797, 47.95942, 47.42691, 69.20730999999999, 44.954679999999996, 29.17197, 17.91674, 16.25515, 14.65559, 17.260479999999998, 31.22245, 46.717040000000004], [5.0, 6.628881, 10.41339, 24.81939, 26.08952, 30.1605, 52.30802, 64.71007, 76.30823000000001, 84.63686, 99.4324, 62.521319999999996, 46.81647, 55.766059999999996, 82.4099, 140.2647, 81.26501, 56.45756, 30.421640000000004, 17.28782, 8.302431, 2.981626, 2.6985360000000003, 5.886086, 5.268358], [6.0, 21.83975, 6.63927, 18.97085, 32.89204, 43.15014, 62.86014, 104.6657, 130.2294, 114.8494, 106.9873, 61.896469999999994, 55.556819999999995, 86.80986, 89.27802, 122.4221, 123.9698, 109.0952, 98.41956, 77.61374, 32.49031, 14.67344, 7.370775, 0.03711011, 0.6423392], [7.0, 53.343030000000006, 26.79797, 6.63927, 10.88787, 17.2044, 56.18116, 79.70141, 90.8453, 98.27675, 80.87243000000001, 74.7931, 75.54661, 73.4373, 74.11694, 68.1749, 46.240759999999995, 39.93857, 31.21653, 36.88335, 40.02525, 117.4297, 12.70328, 1.729771, 0.0], [8.0, 25.66785, 63.05716999999999, 22.1414, 17.074, 41.74483, 60.27226999999999, 81.42432, 114.444, 102.3234, 101.7878, 111.031, 119.2309, 114.0777, 110.5296, 59.19355, 42.47175, 14.635979999999998, 6.9440740000000005, 6.944075, 27.74936, 0.0, 0.0, 0.09449376, 0.07732264], [9.0, 12.827, 69.20554, 46.76293, 13.96517, 33.887440000000005, 61.826130000000006, 84.74799, 121.12200000000001, 145.2741, 153.1797, 204.78599999999997, 227.9242, 236.3038, 228.3655, 79.34425, 25.934829999999998, 6.9440740000000005, 6.9440740000000005, 6.944075, 7.553681, 0.0, 0.0, 0.0, 0.0], [10.0, 0.0, 68.66396, 59.0435, 33.357620000000004, 47.45282, 57.8355, 78.91689000000001, 107.8275, 168.0053, 130.9597, 212.5541, 165.8122, 210.2429, 181.1713, 189.7617, 137.3378, 84.65395, 8.677168, 6.956575999999999, 8.468093, 0.0, 0.0, 0.0, 0.0], [11.0, 0.0, 95.17499000000001, 80.03818000000001, 59.898619999999994, 39.584759999999996, 50.28058, 63.81641, 80.61301999999999, 66.37824, 198.7651, 244.3467, 294.2474, 264.3517, 176.4082, 60.21856999999999, 77.41475, 53.16981, 56.16393000000001, 6.949235000000001, 7.531059, 3.7801769999999997, 0.0, 0.0, 0.0], [12.0, 0.0, 134.9879, 130.3696, 96.86325, 75.70494000000001, 58.86466, 57.20374, 55.18836999999999, 78.128, 108.5582, 154.3774, 319.1686, 372.8826, 275.4655, 130.2632, 54.938219999999994, 25.49719, 8.047439, 8.084392999999999, 5.115252, 5.678269, 0.0, 0.0, 0.0], [13.0, 0.0, 48.08919, 142.5558, 140.3777, 154.7261, 87.9361, 58.11091999999999, 52.83869, 67.14822, 83.66798, 118.9242, 150.0681, 272.9709, 341.1366, 238.66400000000002, 190.2, 116.8943, 91.48671999999999, 14.0157, 42.292770000000004, 5.115252, 0.0, 0.0, 0.0], [14.0, 0.0, 54.1941, 146.3839, 99.48143, 96.19411, 102.9473, 76.14089, 57.7844, 47.0402, 64.36799, 84.23767, 162.7181, 121.3275, 213.1646, 328.48199999999997, 285.4489, 283.8319, 212.815, 164.549, 92.29630999999999, 7.244014999999999, 1.167, 0.0, 0.0], [15.0, 0.0, 6.919658999999999, 195.1709, 132.5253, 135.2341, 89.85069, 89.45549, 60.29966999999999, 50.33806, 39.17583, 59.068540000000006, 74.52159, 84.93401999999999, 187.1219, 123.9673, 103.7027, 128.986, 165.1283, 249.7054, 95.39966, 10.002839999999999, 2.39255, 0.0, 0.0], [16.0, 0.0, 21.73871, 123.1339, 176.7414, 158.2698, 137.235, 105.3089, 86.63255, 53.11591, 29.03865, 30.40539, 39.04902, 49.23405, 63.27853, 111.4215, 101.1956, 40.00962, 59.84565, 74.51253, 17.06316, 2.435141, 2.287471, -0.0003636982, 0.0], [17.0, 0.0, 0.0, 62.04671999999999, 136.3122, 201.7952, 168.1343, 95.2046, 58.906240000000004, 46.940909999999995, 49.27053, 37.10416, 17.970110000000002, 30.936970000000002, 33.39257, 44.030770000000004, 55.645419999999994, 78.22423, 14.42782, 9.954997, 7.768213, 13.0254, 21.73166, 2.156372, 0.5317867], [18.0, 0.0, 0.0, 79.62993, 139.6978, 173.167, 192.8718, 196.3499, 144.6611, 106.5424, 57.16653, 41.16107, 32.12764, 13.8566, 10.91772, 12.071769999999999, 22.38254, 24.72105, 6.803666000000001, 4.2008410000000005, 16.46857, 15.70744, 33.96221, 7.575688, -0.04880907], [19.0, 0.0, 0.0, 33.2664, 57.53643, 167.2241, 196.4833, 194.7966, 182.1884, 119.6961, 73.02113, 48.36549, 33.746520000000004, 26.2379, 16.3578, 6.811292999999999, 6.63927, 6.639271000000001, 8.468093, 6.194273, 3.5912330000000003, 3.81486, 8.600739, 5.21889, 0.0], [20.0, 0.0, 0.0, 29.77937, 54.97282, 144.7995, 207.4904, 165.3432, 171.4047, 174.9216, 100.2733, 61.46441, 50.19171, 26.08209, 17.18218, 8.468093, 6.63927, 6.334467, 6.334467, 5.6666870000000005, 4.272203, 0.0, 0.0, 0.0, 0.0], [21.0, 0.0, 0.0, 31.409000000000002, 132.7418, 185.5796, 121.8299, 185.3841, 160.6566, 116.1478, 118.1078, 141.7946, 65.56351, 48.84066, 23.13864, 18.12932, 10.28531, 6.029662999999999, 6.044626999999999, 5.694764, 3.7390849999999998, 3.896037, 0.0, 0.0, 0.0], [22.0, 0.0, 0.0, 19.58994, 42.30355, 96.26777, 187.1207, 179.6626, 221.3898, 154.2617, 142.1604, 148.5737, 67.17936999999999, 40.69044, 39.74512, 26.10166, 14.484689999999999, 8.65873, 3.896037, 3.571392, 3.896037, 3.896037, 3.896037, 1.077756, 0.0], [23.0, 0.001229679, 3.008948, 5.909858, 33.50574, 104.3341, 152.2165, 198.1988, 191.84099999999998, 228.7349, 168.1041, 144.2759, 110.7436, 57.65214, 42.635040000000004, 27.918909999999997, 15.410520000000002, 8.056102000000001, 3.9028300000000002, 3.879774, 3.936718, 3.9686339999999998, 0.1236256, 3.985531, -0.1835741], [24.0, 0.0, 5.6261410000000005, 7.6762559999999995, 63.162259999999996, 45.99762, 79.56688, 227.31099999999998, 203.9287, 172.5618, 177.1462, 140.4554, 123.9905, 110.346, 65.12319000000001, 34.318870000000004, 24.5278, 9.561069, 3.3349910000000005, 5.590495, 5.487353, 5.909498999999999, 5.868994, 5.833817, 3.5681769999999995]]}],\n",
       "                        {\"height\": 800, \"margin\": {\"b\": 65, \"l\": 65, \"r\": 10, \"t\": 90}, \"template\": {\"data\": {\"bar\": [{\"error_x\": {\"color\": \"#2a3f5f\"}, \"error_y\": {\"color\": \"#2a3f5f\"}, \"marker\": {\"line\": {\"color\": \"#E5ECF6\", \"width\": 0.5}}, \"type\": \"bar\"}], \"barpolar\": [{\"marker\": {\"line\": {\"color\": \"#E5ECF6\", \"width\": 0.5}}, \"type\": \"barpolar\"}], \"carpet\": [{\"aaxis\": {\"endlinecolor\": \"#2a3f5f\", \"gridcolor\": \"white\", \"linecolor\": \"white\", \"minorgridcolor\": \"white\", \"startlinecolor\": \"#2a3f5f\"}, \"baxis\": {\"endlinecolor\": \"#2a3f5f\", \"gridcolor\": \"white\", \"linecolor\": \"white\", \"minorgridcolor\": \"white\", \"startlinecolor\": \"#2a3f5f\"}, \"type\": \"carpet\"}], \"choropleth\": [{\"colorbar\": {\"outlinewidth\": 0, \"ticks\": \"\"}, \"type\": \"choropleth\"}], \"contour\": [{\"colorbar\": {\"outlinewidth\": 0, \"ticks\": \"\"}, \"colorscale\": [[0.0, \"#0d0887\"], [0.1111111111111111, \"#46039f\"], [0.2222222222222222, \"#7201a8\"], [0.3333333333333333, \"#9c179e\"], [0.4444444444444444, \"#bd3786\"], [0.5555555555555556, \"#d8576b\"], [0.6666666666666666, \"#ed7953\"], [0.7777777777777778, \"#fb9f3a\"], [0.8888888888888888, \"#fdca26\"], [1.0, \"#f0f921\"]], \"type\": \"contour\"}], \"contourcarpet\": [{\"colorbar\": {\"outlinewidth\": 0, \"ticks\": \"\"}, \"type\": \"contourcarpet\"}], \"heatmap\": [{\"colorbar\": {\"outlinewidth\": 0, \"ticks\": \"\"}, \"colorscale\": [[0.0, \"#0d0887\"], [0.1111111111111111, \"#46039f\"], [0.2222222222222222, \"#7201a8\"], [0.3333333333333333, \"#9c179e\"], [0.4444444444444444, \"#bd3786\"], [0.5555555555555556, \"#d8576b\"], [0.6666666666666666, \"#ed7953\"], [0.7777777777777778, \"#fb9f3a\"], [0.8888888888888888, \"#fdca26\"], [1.0, \"#f0f921\"]], \"type\": \"heatmap\"}], \"heatmapgl\": [{\"colorbar\": {\"outlinewidth\": 0, \"ticks\": \"\"}, \"colorscale\": [[0.0, \"#0d0887\"], [0.1111111111111111, \"#46039f\"], [0.2222222222222222, \"#7201a8\"], [0.3333333333333333, \"#9c179e\"], [0.4444444444444444, \"#bd3786\"], [0.5555555555555556, \"#d8576b\"], [0.6666666666666666, \"#ed7953\"], [0.7777777777777778, \"#fb9f3a\"], [0.8888888888888888, \"#fdca26\"], [1.0, \"#f0f921\"]], \"type\": \"heatmapgl\"}], \"histogram\": [{\"marker\": {\"colorbar\": {\"outlinewidth\": 0, \"ticks\": \"\"}}, \"type\": \"histogram\"}], \"histogram2d\": [{\"colorbar\": {\"outlinewidth\": 0, \"ticks\": \"\"}, \"colorscale\": [[0.0, \"#0d0887\"], [0.1111111111111111, \"#46039f\"], [0.2222222222222222, \"#7201a8\"], [0.3333333333333333, \"#9c179e\"], [0.4444444444444444, \"#bd3786\"], [0.5555555555555556, \"#d8576b\"], [0.6666666666666666, \"#ed7953\"], [0.7777777777777778, \"#fb9f3a\"], [0.8888888888888888, \"#fdca26\"], [1.0, \"#f0f921\"]], \"type\": \"histogram2d\"}], \"histogram2dcontour\": [{\"colorbar\": {\"outlinewidth\": 0, \"ticks\": \"\"}, \"colorscale\": [[0.0, \"#0d0887\"], [0.1111111111111111, \"#46039f\"], [0.2222222222222222, \"#7201a8\"], [0.3333333333333333, \"#9c179e\"], [0.4444444444444444, \"#bd3786\"], [0.5555555555555556, \"#d8576b\"], [0.6666666666666666, \"#ed7953\"], [0.7777777777777778, \"#fb9f3a\"], [0.8888888888888888, \"#fdca26\"], [1.0, \"#f0f921\"]], \"type\": \"histogram2dcontour\"}], \"mesh3d\": [{\"colorbar\": {\"outlinewidth\": 0, \"ticks\": \"\"}, \"type\": \"mesh3d\"}], \"parcoords\": [{\"line\": {\"colorbar\": {\"outlinewidth\": 0, \"ticks\": \"\"}}, \"type\": \"parcoords\"}], \"pie\": [{\"automargin\": true, \"type\": \"pie\"}], \"scatter\": [{\"marker\": {\"colorbar\": {\"outlinewidth\": 0, \"ticks\": \"\"}}, \"type\": \"scatter\"}], \"scatter3d\": [{\"line\": {\"colorbar\": {\"outlinewidth\": 0, \"ticks\": \"\"}}, \"marker\": {\"colorbar\": {\"outlinewidth\": 0, \"ticks\": \"\"}}, \"type\": \"scatter3d\"}], \"scattercarpet\": [{\"marker\": {\"colorbar\": {\"outlinewidth\": 0, \"ticks\": \"\"}}, \"type\": \"scattercarpet\"}], \"scattergeo\": [{\"marker\": {\"colorbar\": {\"outlinewidth\": 0, \"ticks\": \"\"}}, \"type\": \"scattergeo\"}], \"scattergl\": [{\"marker\": {\"colorbar\": {\"outlinewidth\": 0, \"ticks\": \"\"}}, \"type\": \"scattergl\"}], \"scattermapbox\": [{\"marker\": {\"colorbar\": {\"outlinewidth\": 0, \"ticks\": \"\"}}, \"type\": \"scattermapbox\"}], \"scatterpolar\": [{\"marker\": {\"colorbar\": {\"outlinewidth\": 0, \"ticks\": \"\"}}, \"type\": \"scatterpolar\"}], \"scatterpolargl\": [{\"marker\": {\"colorbar\": {\"outlinewidth\": 0, \"ticks\": \"\"}}, \"type\": \"scatterpolargl\"}], \"scatterternary\": [{\"marker\": {\"colorbar\": {\"outlinewidth\": 0, \"ticks\": \"\"}}, \"type\": \"scatterternary\"}], \"surface\": [{\"colorbar\": {\"outlinewidth\": 0, \"ticks\": \"\"}, \"colorscale\": [[0.0, \"#0d0887\"], [0.1111111111111111, \"#46039f\"], [0.2222222222222222, \"#7201a8\"], [0.3333333333333333, \"#9c179e\"], [0.4444444444444444, \"#bd3786\"], [0.5555555555555556, \"#d8576b\"], [0.6666666666666666, \"#ed7953\"], [0.7777777777777778, \"#fb9f3a\"], [0.8888888888888888, \"#fdca26\"], [1.0, \"#f0f921\"]], \"type\": \"surface\"}], \"table\": [{\"cells\": {\"fill\": {\"color\": \"#EBF0F8\"}, \"line\": {\"color\": \"white\"}}, \"header\": {\"fill\": {\"color\": \"#C8D4E3\"}, \"line\": {\"color\": \"white\"}}, \"type\": \"table\"}]}, \"layout\": {\"annotationdefaults\": {\"arrowcolor\": \"#2a3f5f\", \"arrowhead\": 0, \"arrowwidth\": 1}, \"coloraxis\": {\"colorbar\": {\"outlinewidth\": 0, \"ticks\": \"\"}}, \"colorscale\": {\"diverging\": [[0, \"#8e0152\"], [0.1, \"#c51b7d\"], [0.2, \"#de77ae\"], [0.3, \"#f1b6da\"], [0.4, \"#fde0ef\"], [0.5, \"#f7f7f7\"], [0.6, \"#e6f5d0\"], [0.7, \"#b8e186\"], [0.8, \"#7fbc41\"], [0.9, \"#4d9221\"], [1, \"#276419\"]], \"sequential\": [[0.0, \"#0d0887\"], [0.1111111111111111, \"#46039f\"], [0.2222222222222222, \"#7201a8\"], [0.3333333333333333, \"#9c179e\"], [0.4444444444444444, \"#bd3786\"], [0.5555555555555556, \"#d8576b\"], [0.6666666666666666, \"#ed7953\"], [0.7777777777777778, \"#fb9f3a\"], [0.8888888888888888, \"#fdca26\"], [1.0, \"#f0f921\"]], \"sequentialminus\": [[0.0, \"#0d0887\"], [0.1111111111111111, \"#46039f\"], [0.2222222222222222, \"#7201a8\"], [0.3333333333333333, \"#9c179e\"], [0.4444444444444444, \"#bd3786\"], [0.5555555555555556, \"#d8576b\"], [0.6666666666666666, \"#ed7953\"], [0.7777777777777778, \"#fb9f3a\"], [0.8888888888888888, \"#fdca26\"], [1.0, \"#f0f921\"]]}, \"colorway\": [\"#636efa\", \"#EF553B\", \"#00cc96\", \"#ab63fa\", \"#FFA15A\", \"#19d3f3\", \"#FF6692\", \"#B6E880\", \"#FF97FF\", \"#FECB52\"], \"font\": {\"color\": \"#2a3f5f\"}, \"geo\": {\"bgcolor\": \"white\", \"lakecolor\": \"white\", \"landcolor\": \"#E5ECF6\", \"showlakes\": true, \"showland\": true, \"subunitcolor\": \"white\"}, \"hoverlabel\": {\"align\": \"left\"}, \"hovermode\": \"closest\", \"mapbox\": {\"style\": \"light\"}, \"paper_bgcolor\": \"white\", \"plot_bgcolor\": \"#E5ECF6\", \"polar\": {\"angularaxis\": {\"gridcolor\": \"white\", \"linecolor\": \"white\", \"ticks\": \"\"}, \"bgcolor\": \"#E5ECF6\", \"radialaxis\": {\"gridcolor\": \"white\", \"linecolor\": \"white\", \"ticks\": \"\"}}, \"scene\": {\"xaxis\": {\"backgroundcolor\": \"#E5ECF6\", \"gridcolor\": \"white\", \"gridwidth\": 2, \"linecolor\": \"white\", \"showbackground\": true, \"ticks\": \"\", \"zerolinecolor\": \"white\"}, \"yaxis\": {\"backgroundcolor\": \"#E5ECF6\", \"gridcolor\": \"white\", \"gridwidth\": 2, \"linecolor\": \"white\", \"showbackground\": true, \"ticks\": \"\", \"zerolinecolor\": \"white\"}, \"zaxis\": {\"backgroundcolor\": \"#E5ECF6\", \"gridcolor\": \"white\", \"gridwidth\": 2, \"linecolor\": \"white\", \"showbackground\": true, \"ticks\": \"\", \"zerolinecolor\": \"white\"}}, \"shapedefaults\": {\"line\": {\"color\": \"#2a3f5f\"}}, \"ternary\": {\"aaxis\": {\"gridcolor\": \"white\", \"linecolor\": \"white\", \"ticks\": \"\"}, \"baxis\": {\"gridcolor\": \"white\", \"linecolor\": \"white\", \"ticks\": \"\"}, \"bgcolor\": \"#E5ECF6\", \"caxis\": {\"gridcolor\": \"white\", \"linecolor\": \"white\", \"ticks\": \"\"}}, \"title\": {\"x\": 0.05}, \"xaxis\": {\"automargin\": true, \"gridcolor\": \"white\", \"linecolor\": \"white\", \"ticks\": \"\", \"title\": {\"standoff\": 15}, \"zerolinecolor\": \"white\", \"zerolinewidth\": 2}, \"yaxis\": {\"automargin\": true, \"gridcolor\": \"white\", \"linecolor\": \"white\", \"ticks\": \"\", \"title\": {\"standoff\": 15}, \"zerolinecolor\": \"white\", \"zerolinewidth\": 2}}}, \"title\": {\"text\": \"Mt Bruno Elevation\"}, \"width\": 800},\n",
       "                        {\"responsive\": true}\n",
       "                    ).then(function(){\n",
       "                            \n",
       "var gd = document.getElementById('e30c79e6-8737-4307-bd82-88ca0c416e64');\n",
       "var x = new MutationObserver(function (mutations, observer) {{\n",
       "        var display = window.getComputedStyle(gd).display;\n",
       "        if (!display || display === 'none') {{\n",
       "            console.log([gd, 'removed!']);\n",
       "            Plotly.purge(gd);\n",
       "            observer.disconnect();\n",
       "        }}\n",
       "}});\n",
       "\n",
       "// Listen for the removal of the full notebook cells\n",
       "var notebookContainer = gd.closest('#notebook-container');\n",
       "if (notebookContainer) {{\n",
       "    x.observe(notebookContainer, {childList: true});\n",
       "}}\n",
       "\n",
       "// Listen for the clearing of the current output cell\n",
       "var outputEl = gd.closest('.output');\n",
       "if (outputEl) {{\n",
       "    x.observe(outputEl, {childList: true});\n",
       "}}\n",
       "\n",
       "                        })\n",
       "                };\n",
       "                });\n",
       "            </script>\n",
       "        </div>"
      ]
     },
     "metadata": {},
     "output_type": "display_data"
    }
   ],
   "source": [
    "#Example 3:\n",
    "#!pip install pandas\n",
    "import plotly.offline as py\n",
    "py.init_notebook_mode(connected=True)\n",
    "import plotly.graph_objs as go\n",
    "import pandas as pd\n",
    "table = pd.read_csv('https://raw.githubusercontent.com/plotly/datasets/master/api_docs/mt_bruno_elevation.csv')\n",
    "data = go.Surface(z=table.values)  # use 2D numpy array format\n",
    "layout = go.Layout(title='Mt Bruno Elevation',\n",
    "                   width=800, height=800,    # image size\n",
    "                   margin=dict(l=65, r=10, b=65, t=90))   # margins around the plot\n",
    "fig = go.Figure(data=[data], layout=layout)\n",
    "py.iplot(fig)"
   ]
  },
  {
   "cell_type": "code",
   "execution_count": 32,
   "metadata": {},
   "outputs": [
    {
     "data": {
      "image/png": "[encoded data removed]",
      "text/plain": [
       "<Figure size 432x288 with 1 Axes>"
      ]
     },
     "metadata": {
      "needs_background": "light"
     },
     "output_type": "display_data"
    }
   ],
   "source": [
    "#!pip install scipy\n",
    "from scipy.stats import norm\n",
    "from numpy import linspace\n",
    "import matplotlib.pyplot as plt\n",
    "\n",
    "fig, ax = plt.subplots()\n",
    "\n",
    "# picking 150 of from a normal distrubution\n",
    "# with mean 0 and standard deviation 1\n",
    "samp = norm.rvs(loc=0,scale=1,size=150) \n",
    "param = norm.fit(samp) # distribution fitting\n",
    "\n",
    "# now, param[0] and param[1] are the mean and \n",
    "# the standard deviation of the fitted distribution\n",
    "x = linspace(-5,5,100)\n",
    "# fitted distribution\n",
    "pdf_fitted = norm.pdf(x,loc=param[0],scale=param[1])\n",
    "# original distribution\n",
    "pdf = norm.pdf(x)\n",
    "\n",
    "plt.title('Normal distribution')\n",
    "plt.plot(x,pdf_fitted,'r-',x,pdf,'b-')\n",
    "plt.hist(samp,density=1,alpha=.3)\n",
    "plt.show()\n",
    "\n",
    "#exercise: Fit another distribtion to same data: lognormal"
   ]
  },
  {
   "cell_type": "code",
   "execution_count": null,
   "metadata": {},
   "outputs": [],
   "source": []
  }
 ],
 "metadata": {
  "kernelspec": {
   "display_name": "Python 3",
   "language": "python",
   "name": "python3"
  },
  "language_info": {
   "codemirror_mode": {
    "name": "ipython",
    "version": 3
   },
   "file_extension": ".py",
   "mimetype": "text/x-python",
   "name": "python",
   "nbconvert_exporter": "python",
   "pygments_lexer": "ipython3",
   "version": "3.7.4"
  }
 },
 "nbformat": 4,
 "nbformat_minor": 4
}
